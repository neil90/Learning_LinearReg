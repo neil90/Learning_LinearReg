{
 "cells": [
  {
   "cell_type": "markdown",
   "metadata": {},
   "source": [
    "#Elantra Sales using Linear Regression"
   ]
  },
  {
   "cell_type": "markdown",
   "metadata": {},
   "source": [
    "##Load and look at the data"
   ]
  },
  {
   "cell_type": "code",
   "execution_count": 1,
   "metadata": {
    "collapsed": false
   },
   "outputs": [],
   "source": [
    "import matplotlib.pyplot as plt\n",
    "import pandas as pd\n",
    "import numpy as np\n",
    "import matplotlib as mpl\n",
    "import seaborn as sns\n",
    "\n",
    "%matplotlib inline"
   ]
  },
  {
   "cell_type": "code",
   "execution_count": 2,
   "metadata": {
    "collapsed": false
   },
   "outputs": [],
   "source": [
    "data = r'C:\\Users\\neil\\Downloads\\elantra.csv'"
   ]
  },
  {
   "cell_type": "code",
   "execution_count": 3,
   "metadata": {
    "collapsed": false
   },
   "outputs": [],
   "source": [
    "df = pd.read_csv(data)"
   ]
  },
  {
   "cell_type": "code",
   "execution_count": 4,
   "metadata": {
    "collapsed": false
   },
   "outputs": [
    {
     "data": {
      "text/html": [
       "<div style=\"max-height:1000px;max-width:1500px;overflow:auto;\">\n",
       "<table border=\"1\" class=\"dataframe\">\n",
       "  <thead>\n",
       "    <tr style=\"text-align: right;\">\n",
       "      <th></th>\n",
       "      <th>Month</th>\n",
       "      <th>Year</th>\n",
       "      <th>ElantraSales</th>\n",
       "      <th>Unemployment</th>\n",
       "      <th>Queries</th>\n",
       "      <th>CPI_energy</th>\n",
       "      <th>CPI_all</th>\n",
       "    </tr>\n",
       "  </thead>\n",
       "  <tbody>\n",
       "    <tr>\n",
       "      <th>0</th>\n",
       "      <td>1</td>\n",
       "      <td>2010</td>\n",
       "      <td>7690</td>\n",
       "      <td>9.7</td>\n",
       "      <td>153</td>\n",
       "      <td>213.377</td>\n",
       "      <td>217.466</td>\n",
       "    </tr>\n",
       "    <tr>\n",
       "      <th>1</th>\n",
       "      <td>1</td>\n",
       "      <td>2011</td>\n",
       "      <td>9659</td>\n",
       "      <td>9.1</td>\n",
       "      <td>259</td>\n",
       "      <td>229.353</td>\n",
       "      <td>221.082</td>\n",
       "    </tr>\n",
       "    <tr>\n",
       "      <th>2</th>\n",
       "      <td>1</td>\n",
       "      <td>2012</td>\n",
       "      <td>10900</td>\n",
       "      <td>8.2</td>\n",
       "      <td>354</td>\n",
       "      <td>244.178</td>\n",
       "      <td>227.666</td>\n",
       "    </tr>\n",
       "    <tr>\n",
       "      <th>3</th>\n",
       "      <td>1</td>\n",
       "      <td>2013</td>\n",
       "      <td>12174</td>\n",
       "      <td>7.9</td>\n",
       "      <td>230</td>\n",
       "      <td>242.560</td>\n",
       "      <td>231.321</td>\n",
       "    </tr>\n",
       "    <tr>\n",
       "      <th>4</th>\n",
       "      <td>1</td>\n",
       "      <td>2014</td>\n",
       "      <td>15326</td>\n",
       "      <td>6.6</td>\n",
       "      <td>232</td>\n",
       "      <td>247.575</td>\n",
       "      <td>234.933</td>\n",
       "    </tr>\n",
       "  </tbody>\n",
       "</table>\n",
       "</div>"
      ],
      "text/plain": [
       "   Month  Year  ElantraSales  Unemployment  Queries  CPI_energy  CPI_all\n",
       "0      1  2010          7690           9.7      153     213.377  217.466\n",
       "1      1  2011          9659           9.1      259     229.353  221.082\n",
       "2      1  2012         10900           8.2      354     244.178  227.666\n",
       "3      1  2013         12174           7.9      230     242.560  231.321\n",
       "4      1  2014         15326           6.6      232     247.575  234.933"
      ]
     },
     "execution_count": 4,
     "metadata": {},
     "output_type": "execute_result"
    }
   ],
   "source": [
    "df.head()"
   ]
  },
  {
   "cell_type": "code",
   "execution_count": 5,
   "metadata": {
    "collapsed": false
   },
   "outputs": [
    {
     "name": "stdout",
     "output_type": "stream",
     "text": [
      "<class 'pandas.core.frame.DataFrame'>\n",
      "Int64Index: 50 entries, 0 to 49\n",
      "Data columns (total 7 columns):\n",
      "Month           50 non-null int64\n",
      "Year            50 non-null int64\n",
      "ElantraSales    50 non-null int64\n",
      "Unemployment    50 non-null float64\n",
      "Queries         50 non-null int64\n",
      "CPI_energy      50 non-null float64\n",
      "CPI_all         50 non-null float64\n",
      "dtypes: float64(3), int64(4)\n",
      "memory usage: 3.1 KB\n"
     ]
    },
    {
     "data": {
      "text/plain": [
       "1"
      ]
     },
     "execution_count": 5,
     "metadata": {},
     "output_type": "execute_result"
    }
   ],
   "source": [
    "df.info()\n",
    "df['Month'].min()"
   ]
  },
  {
   "cell_type": "code",
   "execution_count": 6,
   "metadata": {
    "collapsed": false
   },
   "outputs": [],
   "source": [
    "##Create train and test set"
   ]
  },
  {
   "cell_type": "code",
   "execution_count": 7,
   "metadata": {
    "collapsed": false
   },
   "outputs": [],
   "source": [
    "train = df.query('Year <2013')\n",
    "test = df.query('Year > 2012')"
   ]
  },
  {
   "cell_type": "code",
   "execution_count": 8,
   "metadata": {
    "collapsed": false
   },
   "outputs": [],
   "source": [
    "##Look at the relationship between the data"
   ]
  },
  {
   "cell_type": "code",
   "execution_count": 9,
   "metadata": {
    "collapsed": false
   },
   "outputs": [
    {
     "data": {
      "text/plain": [
       "(215, 240)"
      ]
     },
     "execution_count": 9,
     "metadata": {},
     "output_type": "execute_result"
    },
    {
     "data": {
      "image/png": "[encoded data removed]",
      "text/plain": [
       "<matplotlib.figure.Figure at 0x74c4170>"
      ]
     },
     "metadata": {},
     "output_type": "display_data"
    }
   ],
   "source": [
    "mpl.rcParams['ytick.labelsize'] = 12\n",
    "mpl.rcParams['xtick.labelsize'] = 12\n",
    "\n",
    "f, (ax) = plt.subplots(1,4, figsize =(16,6),sharey=True)\n",
    "f.suptitle('Independent Variables', fontsize=14, fontweight='bold')\n",
    "sns.regplot(x ='Unemployment', y ='ElantraSales',data = df,ci=None, ax =ax[0],fit_reg= False)\n",
    "sns.regplot('Queries','ElantraSales',data = df,ci=None, ax =ax[1],fit_reg= False).set_ylabel(\"\")\n",
    "sns.regplot('CPI_energy','ElantraSales',data = df,ci=None, ax =ax[2],fit_reg= False).set_ylabel(\"\")\n",
    "g = sns.regplot('CPI_all','ElantraSales',data = df,ci=None, ax =ax[3],fit_reg= False)\n",
    "g.set_ylabel(\"\")\n",
    "axes = g.axes\n",
    "axes.set_xlim(215,240)"
   ]
  },
  {
   "cell_type": "markdown",
   "metadata": {},
   "source": [
    "##Create model with all Independent values"
   ]
  },
  {
   "cell_type": "code",
   "execution_count": 10,
   "metadata": {
    "collapsed": false
   },
   "outputs": [],
   "source": [
    "from sklearn.linear_model import LinearRegression\n",
    "feature_cols = ['Unemployment','Queries','CPI_energy','CPI_all']\n",
    "X_train = train[feature_cols]\n",
    "y_train = train['ElantraSales'].values\n",
    "\n",
    "lm1 = LinearRegression()\n",
    "\n",
    "lm1.fit(X_train,y_train)\n",
    "\n",
    "lm1pred = lm1.predict(X_train)"
   ]
  },
  {
   "cell_type": "code",
   "execution_count": 11,
   "metadata": {
    "collapsed": false
   },
   "outputs": [
    {
     "name": "stdout",
     "output_type": "stream",
     "text": [
      "<class 'pandas.core.frame.DataFrame'>\n",
      "Int64Index: 36 entries, 0 to 48\n",
      "Data columns (total 4 columns):\n",
      "Unemployment    36 non-null float64\n",
      "Queries         36 non-null int64\n",
      "CPI_energy      36 non-null float64\n",
      "CPI_all         36 non-null float64\n",
      "dtypes: float64(3), int64(1)\n",
      "memory usage: 1.4 KB\n"
     ]
    }
   ],
   "source": [
    "X_train.info()"
   ]
  },
  {
   "cell_type": "markdown",
   "metadata": {},
   "source": [
    "###Create function to calculate R^2 adjusted"
   ]
  },
  {
   "cell_type": "code",
   "execution_count": 12,
   "metadata": {
    "collapsed": false
   },
   "outputs": [],
   "source": [
    "def rsquared_adj(x,rsquared):\n",
    "    N = len(x)\n",
    "    predictors = len(list(x))\n",
    "    return 1- ((1-rsquared)*(N-1))/(N-predictors-1)"
   ]
  },
  {
   "cell_type": "code",
   "execution_count": 13,
   "metadata": {
    "collapsed": false
   },
   "outputs": [
    {
     "name": "stdout",
     "output_type": "stream",
     "text": [
      "R^2:  0.428156766861\n",
      "R^2 Adj:  0.35437054323\n",
      "MAE:  2495.9605879\n",
      "MSE:  9346383.72112\n",
      "RMSE:  3057.18558827 \n",
      "\n",
      "Unemployment : -3179.89957338\n",
      "Queries : 19.0296826199\n",
      "CPI_energy : 38.5060368546\n",
      "CPI_all : -297.645625601\n"
     ]
    }
   ],
   "source": [
    "from sklearn.metrics import mean_squared_error, mean_absolute_error, r2_score\n",
    "print 'R^2: ', lm1.score(X_train,y_train)\n",
    "print 'R^2 Adj: ', rsquared_adj(X_train,lm1.score(X_train,y_train))\n",
    "print 'MAE: ', mean_absolute_error(lm1pred,y_train)\n",
    "print 'MSE: ', mean_squared_error(lm1pred,y_train)\n",
    "print 'RMSE: ', np.sqrt(mean_squared_error(lm1pred,y_train)),'\\n'\n",
    "\n",
    "#Coefficents\n",
    "for i in zip(feature_cols,lm1.coef_):\n",
    "    print \"{0} : {1}\".format(i[0],i[1])"
   ]
  },
  {
   "cell_type": "markdown",
   "metadata": {},
   "source": [
    "##Model does not fit that good\n",
    "###Add Month column as a factor"
   ]
  },
  {
   "cell_type": "code",
   "execution_count": 14,
   "metadata": {
    "collapsed": false
   },
   "outputs": [],
   "source": [
    "#Convert Month column to a factor\n",
    "#First replace the numbers with the Month names\n",
    "#Note: We can convert the ints to factors however I prefer to use the month name instead(its just preference)\n",
    "MonthDict = {\n",
    "             1 : 'Jan', 2 :'Feb' ,3 : 'Mar', 4 : 'Apr' , 5 : 'May', 6 : 'June' ,7 : 'July',\n",
    "             8 : 'Aug',9 : 'Sep',10 : 'Oct' ,11 : 'Nov', 12 : 'Dec'\n",
    "            }\n",
    "\n",
    "df['MonthFac'] = df['Month'].apply(lambda x: MonthDict.get(x,x)).astype('category')\n",
    "\n",
    "#Recreate test and train with category variable\n",
    "train = df.query('Year <2013')\n",
    "test = df.query('Year > 2012')"
   ]
  },
  {
   "cell_type": "markdown",
   "metadata": {},
   "source": [
    "###Recreate model with MonthFac added on"
   ]
  },
  {
   "cell_type": "code",
   "execution_count": 15,
   "metadata": {
    "collapsed": false
   },
   "outputs": [],
   "source": [
    "feature_cols2 = ['Unemployment','Queries','CPI_energy','CPI_all']\n",
    "\n",
    "X_train2 = pd.concat([train[feature_cols2],pd.get_dummies(train['MonthFac'])], axis = 1)\n",
    "lm2 = LinearRegression()\n",
    "\n",
    "lm2.fit(X_train2,y_train) #same y do not need to change\n",
    "\n",
    "lm2pred = lm2.predict(X_train2)"
   ]
  },
  {
   "cell_type": "code",
   "execution_count": 16,
   "metadata": {
    "collapsed": false
   },
   "outputs": [
    {
     "name": "stdout",
     "output_type": "stream",
     "text": [
      "R^2:  0.819264200602\n",
      "R^2 Adj:  0.667065632688\n",
      "MAE:  1421.79007159\n",
      "MSE:  2954002.13804\n",
      "RMSE:  1718.72107628 \n",
      "\n",
      "Unemployment : -7739.38143327\n",
      "Queries : -4.76364624716\n",
      "CPI_energy : 288.631413065\n",
      "CPI_all : -1343.3068286\n",
      "Apr : 1968.318375\n",
      "Aug : 2351.15842902\n",
      "Dec : -294.378270044\n",
      "Feb : -3333.29119298\n",
      "Jan : -5588.28900457\n",
      "July : 4341.17542147\n",
      "June : 3627.54360053\n",
      "Mar : 1108.26775928\n",
      "May : 1831.95998914\n",
      "Nov : -2349.35749966\n",
      "Oct : -3088.10525166\n",
      "Sep : -575.002355524\n"
     ]
    }
   ],
   "source": [
    "print 'R^2: ', lm2.score(X_train2,y_train)\n",
    "print 'R^2 Adj: ', rsquared_adj(X_train2,lm2.score(X_train2,y_train))\n",
    "print 'MAE: ', mean_absolute_error(lm2pred,y_train)\n",
    "print 'MSE: ', mean_squared_error(lm2pred,y_train)\n",
    "print 'RMSE: ', np.sqrt(mean_squared_error(lm2pred,y_train)),'\\n'\n",
    "\n",
    "modelcoef = zip(list(X_train2),lm2.coef_)\n",
    "#lets look at Coefficents\n",
    "for i in modelcoef:\n",
    "    print \"{0} : {1}\".format(i[0],i[1])"
   ]
  },
  {
   "cell_type": "markdown",
   "metadata": {},
   "source": [
    "##Look at multicollinearity between the variables"
   ]
  },
  {
   "cell_type": "code",
   "execution_count": 17,
   "metadata": {
    "collapsed": false
   },
   "outputs": [
    {
     "data": {
      "text/html": [
       "<div style=\"max-height:1000px;max-width:1500px;overflow:auto;\">\n",
       "<table border=\"1\" class=\"dataframe\">\n",
       "  <thead>\n",
       "    <tr style=\"text-align: right;\">\n",
       "      <th></th>\n",
       "      <th>Month</th>\n",
       "      <th>ElantraSales</th>\n",
       "      <th>Unemployment</th>\n",
       "      <th>Queries</th>\n",
       "      <th>CPI_energy</th>\n",
       "      <th>CPI_all</th>\n",
       "    </tr>\n",
       "  </thead>\n",
       "  <tbody>\n",
       "    <tr>\n",
       "      <th>Month</th>\n",
       "      <td>1.000000</td>\n",
       "      <td>0.109795</td>\n",
       "      <td>-0.203603</td>\n",
       "      <td>0.015844</td>\n",
       "      <td>0.176020</td>\n",
       "      <td>0.266788</td>\n",
       "    </tr>\n",
       "    <tr>\n",
       "      <th>ElantraSales</th>\n",
       "      <td>0.109795</td>\n",
       "      <td>1.000000</td>\n",
       "      <td>-0.567146</td>\n",
       "      <td>0.610065</td>\n",
       "      <td>0.591649</td>\n",
       "      <td>0.593622</td>\n",
       "    </tr>\n",
       "    <tr>\n",
       "      <th>Unemployment</th>\n",
       "      <td>-0.203603</td>\n",
       "      <td>-0.567146</td>\n",
       "      <td>1.000000</td>\n",
       "      <td>-0.641109</td>\n",
       "      <td>-0.800719</td>\n",
       "      <td>-0.956212</td>\n",
       "    </tr>\n",
       "    <tr>\n",
       "      <th>Queries</th>\n",
       "      <td>0.015844</td>\n",
       "      <td>0.610065</td>\n",
       "      <td>-0.641109</td>\n",
       "      <td>1.000000</td>\n",
       "      <td>0.832838</td>\n",
       "      <td>0.753673</td>\n",
       "    </tr>\n",
       "    <tr>\n",
       "      <th>CPI_energy</th>\n",
       "      <td>0.176020</td>\n",
       "      <td>0.591649</td>\n",
       "      <td>-0.800719</td>\n",
       "      <td>0.832838</td>\n",
       "      <td>1.000000</td>\n",
       "      <td>0.913226</td>\n",
       "    </tr>\n",
       "    <tr>\n",
       "      <th>CPI_all</th>\n",
       "      <td>0.266788</td>\n",
       "      <td>0.593622</td>\n",
       "      <td>-0.956212</td>\n",
       "      <td>0.753673</td>\n",
       "      <td>0.913226</td>\n",
       "      <td>1.000000</td>\n",
       "    </tr>\n",
       "  </tbody>\n",
       "</table>\n",
       "</div>"
      ],
      "text/plain": [
       "                 Month  ElantraSales  Unemployment   Queries  CPI_energy  \\\n",
       "Month         1.000000      0.109795     -0.203603  0.015844    0.176020   \n",
       "ElantraSales  0.109795      1.000000     -0.567146  0.610065    0.591649   \n",
       "Unemployment -0.203603     -0.567146      1.000000 -0.641109   -0.800719   \n",
       "Queries       0.015844      0.610065     -0.641109  1.000000    0.832838   \n",
       "CPI_energy    0.176020      0.591649     -0.800719  0.832838    1.000000   \n",
       "CPI_all       0.266788      0.593622     -0.956212  0.753673    0.913226   \n",
       "\n",
       "               CPI_all  \n",
       "Month         0.266788  \n",
       "ElantraSales  0.593622  \n",
       "Unemployment -0.956212  \n",
       "Queries       0.753673  \n",
       "CPI_energy    0.913226  \n",
       "CPI_all       1.000000  "
      ]
     },
     "execution_count": 17,
     "metadata": {},
     "output_type": "execute_result"
    }
   ],
   "source": [
    "train.drop(['Year'],axis=1).corr()"
   ]
  },
  {
   "cell_type": "code",
   "execution_count": 19,
   "metadata": {
    "collapsed": false
   },
   "outputs": [],
   "source": [
    "#Queries looks to be highly correlated with CPI_enery and CPI_all\n",
    "#Also its coefficent is negative which goes against common sense(more queries one would expect a positive coefficent) \n",
    "#Remove Queries and rebuild the model\n",
    "feature_cols3 = ['Unemployment','CPI_energy','CPI_all']\n",
    "X_train3 = pd.concat([train[feature_cols3],pd.get_dummies(train['MonthFac'])], axis = 1)\n",
    "\n",
    "lm3 = LinearRegression()\n",
    "\n",
    "\n",
    "lm3.fit(X_train3,y_train) #same y do not need to change\n",
    "\n",
    "lm3pred = lm3.predict(X_train3)"
   ]
  },
  {
   "cell_type": "code",
   "execution_count": 20,
   "metadata": {
    "collapsed": false
   },
   "outputs": [
    {
     "name": "stdout",
     "output_type": "stream",
     "text": [
      "R^2:  0.818039123829\n",
      "R^2 Adj:  0.681568466701\n",
      "MAE:  1409.91907409\n",
      "MSE:  2974025.17398\n",
      "RMSE:  1724.53621997 \n",
      "\n",
      "Unemployment : -7971.33951586\n",
      "CPI_energy : 268.02991583\n",
      "CPI_all : -1377.58162061\n",
      "Apr : 2006.9281588\n",
      "Aug : 2229.06913329\n",
      "Dec : -47.2395851706\n",
      "Feb : -3279.51621927\n",
      "Jan : -5690.42988756\n",
      "July : 3912.29219432\n",
      "June : 3532.70444639\n",
      "Mar : 1189.65694011\n",
      "May : 1754.21484165\n",
      "Nov : -2025.35342351\n",
      "Oct : -2966.18770741\n",
      "Sep : -616.138891627\n"
     ]
    }
   ],
   "source": [
    "print 'R^2: ', lm3.score(X_train3,y_train)\n",
    "print 'R^2 Adj: ', rsquared_adj(X_train3,lm3.score(X_train3,y_train))\n",
    "print 'MAE: ', mean_absolute_error(lm3pred,y_train)\n",
    "print 'MSE: ', mean_squared_error(lm3pred,y_train)\n",
    "print 'RMSE: ', np.sqrt(mean_squared_error(lm3pred,y_train)),'\\n'\n",
    "\n",
    "modelcoef = zip(list(X_train3),lm3.coef_)\n",
    "#lets look at Coefficents\n",
    "for i in modelcoef:\n",
    "    print \"{0} : {1}\".format(i[0],i[1])"
   ]
  },
  {
   "cell_type": "markdown",
   "metadata": {},
   "source": [
    "##Our Model is much better now lets\n",
    "###Predict y values for the test set now"
   ]
  },
  {
   "cell_type": "code",
   "execution_count": 61,
   "metadata": {
    "collapsed": false
   },
   "outputs": [
    {
     "data": {
      "text/html": [
       "<div style=\"max-height:1000px;max-width:1500px;overflow:auto;\">\n",
       "<table border=\"1\" class=\"dataframe\">\n",
       "  <thead>\n",
       "    <tr style=\"text-align: right;\">\n",
       "      <th></th>\n",
       "      <th>Unemployment</th>\n",
       "      <th>CPI_energy</th>\n",
       "      <th>CPI_all</th>\n",
       "      <th>Apr</th>\n",
       "      <th>Aug</th>\n",
       "      <th>Dec</th>\n",
       "      <th>Feb</th>\n",
       "      <th>Jan</th>\n",
       "      <th>July</th>\n",
       "      <th>June</th>\n",
       "      <th>Mar</th>\n",
       "      <th>May</th>\n",
       "      <th>Nov</th>\n",
       "      <th>Oct</th>\n",
       "      <th>Sep</th>\n",
       "    </tr>\n",
       "  </thead>\n",
       "  <tbody>\n",
       "    <tr>\n",
       "      <th>3</th>\n",
       "      <td>7.9</td>\n",
       "      <td>242.560</td>\n",
       "      <td>231.321</td>\n",
       "      <td>0</td>\n",
       "      <td>0</td>\n",
       "      <td>0</td>\n",
       "      <td>0</td>\n",
       "      <td>1</td>\n",
       "      <td>0</td>\n",
       "      <td>0</td>\n",
       "      <td>0</td>\n",
       "      <td>0</td>\n",
       "      <td>0</td>\n",
       "      <td>0</td>\n",
       "      <td>0</td>\n",
       "    </tr>\n",
       "    <tr>\n",
       "      <th>4</th>\n",
       "      <td>6.6</td>\n",
       "      <td>247.575</td>\n",
       "      <td>234.933</td>\n",
       "      <td>0</td>\n",
       "      <td>0</td>\n",
       "      <td>0</td>\n",
       "      <td>0</td>\n",
       "      <td>1</td>\n",
       "      <td>0</td>\n",
       "      <td>0</td>\n",
       "      <td>0</td>\n",
       "      <td>0</td>\n",
       "      <td>0</td>\n",
       "      <td>0</td>\n",
       "      <td>0</td>\n",
       "    </tr>\n",
       "    <tr>\n",
       "      <th>8</th>\n",
       "      <td>7.7</td>\n",
       "      <td>252.639</td>\n",
       "      <td>232.599</td>\n",
       "      <td>0</td>\n",
       "      <td>0</td>\n",
       "      <td>0</td>\n",
       "      <td>1</td>\n",
       "      <td>0</td>\n",
       "      <td>0</td>\n",
       "      <td>0</td>\n",
       "      <td>0</td>\n",
       "      <td>0</td>\n",
       "      <td>0</td>\n",
       "      <td>0</td>\n",
       "      <td>0</td>\n",
       "    </tr>\n",
       "    <tr>\n",
       "      <th>9</th>\n",
       "      <td>6.7</td>\n",
       "      <td>246.389</td>\n",
       "      <td>235.169</td>\n",
       "      <td>0</td>\n",
       "      <td>0</td>\n",
       "      <td>0</td>\n",
       "      <td>1</td>\n",
       "      <td>0</td>\n",
       "      <td>0</td>\n",
       "      <td>0</td>\n",
       "      <td>0</td>\n",
       "      <td>0</td>\n",
       "      <td>0</td>\n",
       "      <td>0</td>\n",
       "      <td>0</td>\n",
       "    </tr>\n",
       "    <tr>\n",
       "      <th>13</th>\n",
       "      <td>7.5</td>\n",
       "      <td>244.598</td>\n",
       "      <td>232.075</td>\n",
       "      <td>0</td>\n",
       "      <td>0</td>\n",
       "      <td>0</td>\n",
       "      <td>0</td>\n",
       "      <td>0</td>\n",
       "      <td>0</td>\n",
       "      <td>0</td>\n",
       "      <td>1</td>\n",
       "      <td>0</td>\n",
       "      <td>0</td>\n",
       "      <td>0</td>\n",
       "      <td>0</td>\n",
       "    </tr>\n",
       "    <tr>\n",
       "      <th>17</th>\n",
       "      <td>7.5</td>\n",
       "      <td>238.860</td>\n",
       "      <td>231.707</td>\n",
       "      <td>1</td>\n",
       "      <td>0</td>\n",
       "      <td>0</td>\n",
       "      <td>0</td>\n",
       "      <td>0</td>\n",
       "      <td>0</td>\n",
       "      <td>0</td>\n",
       "      <td>0</td>\n",
       "      <td>0</td>\n",
       "      <td>0</td>\n",
       "      <td>0</td>\n",
       "      <td>0</td>\n",
       "    </tr>\n",
       "    <tr>\n",
       "      <th>21</th>\n",
       "      <td>7.5</td>\n",
       "      <td>240.972</td>\n",
       "      <td>232.124</td>\n",
       "      <td>0</td>\n",
       "      <td>0</td>\n",
       "      <td>0</td>\n",
       "      <td>0</td>\n",
       "      <td>0</td>\n",
       "      <td>0</td>\n",
       "      <td>0</td>\n",
       "      <td>0</td>\n",
       "      <td>1</td>\n",
       "      <td>0</td>\n",
       "      <td>0</td>\n",
       "      <td>0</td>\n",
       "    </tr>\n",
       "    <tr>\n",
       "      <th>25</th>\n",
       "      <td>7.5</td>\n",
       "      <td>245.412</td>\n",
       "      <td>232.860</td>\n",
       "      <td>0</td>\n",
       "      <td>0</td>\n",
       "      <td>0</td>\n",
       "      <td>0</td>\n",
       "      <td>0</td>\n",
       "      <td>0</td>\n",
       "      <td>1</td>\n",
       "      <td>0</td>\n",
       "      <td>0</td>\n",
       "      <td>0</td>\n",
       "      <td>0</td>\n",
       "      <td>0</td>\n",
       "    </tr>\n",
       "    <tr>\n",
       "      <th>29</th>\n",
       "      <td>7.3</td>\n",
       "      <td>245.926</td>\n",
       "      <td>233.252</td>\n",
       "      <td>0</td>\n",
       "      <td>0</td>\n",
       "      <td>0</td>\n",
       "      <td>0</td>\n",
       "      <td>0</td>\n",
       "      <td>1</td>\n",
       "      <td>0</td>\n",
       "      <td>0</td>\n",
       "      <td>0</td>\n",
       "      <td>0</td>\n",
       "      <td>0</td>\n",
       "      <td>0</td>\n",
       "    </tr>\n",
       "    <tr>\n",
       "      <th>33</th>\n",
       "      <td>7.2</td>\n",
       "      <td>244.917</td>\n",
       "      <td>233.433</td>\n",
       "      <td>0</td>\n",
       "      <td>1</td>\n",
       "      <td>0</td>\n",
       "      <td>0</td>\n",
       "      <td>0</td>\n",
       "      <td>0</td>\n",
       "      <td>0</td>\n",
       "      <td>0</td>\n",
       "      <td>0</td>\n",
       "      <td>0</td>\n",
       "      <td>0</td>\n",
       "      <td>0</td>\n",
       "    </tr>\n",
       "    <tr>\n",
       "      <th>37</th>\n",
       "      <td>7.2</td>\n",
       "      <td>245.566</td>\n",
       "      <td>233.743</td>\n",
       "      <td>0</td>\n",
       "      <td>0</td>\n",
       "      <td>0</td>\n",
       "      <td>0</td>\n",
       "      <td>0</td>\n",
       "      <td>0</td>\n",
       "      <td>0</td>\n",
       "      <td>0</td>\n",
       "      <td>0</td>\n",
       "      <td>0</td>\n",
       "      <td>0</td>\n",
       "      <td>1</td>\n",
       "    </tr>\n",
       "    <tr>\n",
       "      <th>41</th>\n",
       "      <td>7.2</td>\n",
       "      <td>243.374</td>\n",
       "      <td>233.782</td>\n",
       "      <td>0</td>\n",
       "      <td>0</td>\n",
       "      <td>0</td>\n",
       "      <td>0</td>\n",
       "      <td>0</td>\n",
       "      <td>0</td>\n",
       "      <td>0</td>\n",
       "      <td>0</td>\n",
       "      <td>0</td>\n",
       "      <td>0</td>\n",
       "      <td>1</td>\n",
       "      <td>0</td>\n",
       "    </tr>\n",
       "    <tr>\n",
       "      <th>45</th>\n",
       "      <td>7.0</td>\n",
       "      <td>242.301</td>\n",
       "      <td>234.033</td>\n",
       "      <td>0</td>\n",
       "      <td>0</td>\n",
       "      <td>0</td>\n",
       "      <td>0</td>\n",
       "      <td>0</td>\n",
       "      <td>0</td>\n",
       "      <td>0</td>\n",
       "      <td>0</td>\n",
       "      <td>0</td>\n",
       "      <td>1</td>\n",
       "      <td>0</td>\n",
       "      <td>0</td>\n",
       "    </tr>\n",
       "    <tr>\n",
       "      <th>49</th>\n",
       "      <td>6.7</td>\n",
       "      <td>246.189</td>\n",
       "      <td>234.594</td>\n",
       "      <td>0</td>\n",
       "      <td>0</td>\n",
       "      <td>1</td>\n",
       "      <td>0</td>\n",
       "      <td>0</td>\n",
       "      <td>0</td>\n",
       "      <td>0</td>\n",
       "      <td>0</td>\n",
       "      <td>0</td>\n",
       "      <td>0</td>\n",
       "      <td>0</td>\n",
       "      <td>0</td>\n",
       "    </tr>\n",
       "  </tbody>\n",
       "</table>\n",
       "</div>"
      ],
      "text/plain": [
       "    Unemployment  CPI_energy  CPI_all  Apr  Aug  Dec  Feb  Jan  July  June  \\\n",
       "3            7.9     242.560  231.321    0    0    0    0    1     0     0   \n",
       "4            6.6     247.575  234.933    0    0    0    0    1     0     0   \n",
       "8            7.7     252.639  232.599    0    0    0    1    0     0     0   \n",
       "9            6.7     246.389  235.169    0    0    0    1    0     0     0   \n",
       "13           7.5     244.598  232.075    0    0    0    0    0     0     0   \n",
       "17           7.5     238.860  231.707    1    0    0    0    0     0     0   \n",
       "21           7.5     240.972  232.124    0    0    0    0    0     0     0   \n",
       "25           7.5     245.412  232.860    0    0    0    0    0     0     1   \n",
       "29           7.3     245.926  233.252    0    0    0    0    0     1     0   \n",
       "33           7.2     244.917  233.433    0    1    0    0    0     0     0   \n",
       "37           7.2     245.566  233.743    0    0    0    0    0     0     0   \n",
       "41           7.2     243.374  233.782    0    0    0    0    0     0     0   \n",
       "45           7.0     242.301  234.033    0    0    0    0    0     0     0   \n",
       "49           6.7     246.189  234.594    0    0    1    0    0     0     0   \n",
       "\n",
       "    Mar  May  Nov  Oct  Sep  \n",
       "3     0    0    0    0    0  \n",
       "4     0    0    0    0    0  \n",
       "8     0    0    0    0    0  \n",
       "9     0    0    0    0    0  \n",
       "13    1    0    0    0    0  \n",
       "17    0    0    0    0    0  \n",
       "21    0    1    0    0    0  \n",
       "25    0    0    0    0    0  \n",
       "29    0    0    0    0    0  \n",
       "33    0    0    0    0    0  \n",
       "37    0    0    0    0    1  \n",
       "41    0    0    0    1    0  \n",
       "45    0    0    1    0    0  \n",
       "49    0    0    0    0    0  "
      ]
     },
     "execution_count": 61,
     "metadata": {},
     "output_type": "execute_result"
    }
   ],
   "source": [
    "X_test = pd.concat([test[feature_cols3],pd.get_dummies(test['MonthFac'])], axis = 1)\n",
    "y_test = test['ElantraSales'].values\n",
    "lm3predtest = lm3.predict(X_test)\n",
    "\n",
    "#len(lm3predtest)\n",
    "X_test"
   ]
  },
  {
   "cell_type": "code",
   "execution_count": 62,
   "metadata": {
    "collapsed": false
   },
   "outputs": [
    {
     "name": "stdout",
     "output_type": "stream",
     "text": [
      "190757747.444 701375142.375\n"
     ]
    }
   ],
   "source": [
    "#Rsquared for test\n",
    "SSE = sum((lm3predtest-test['ElantraSales'])**2)\n",
    "SST = sum((train['ElantraSales'].mean()-y_test)**2)\n",
    "\n",
    "print SSE, SST\n",
    "\n",
    "Rsquared = 1-(SSE/SST)\n"
   ]
  },
  {
   "cell_type": "code",
   "execution_count": 29,
   "metadata": {
    "collapsed": false
   },
   "outputs": [
    {
     "name": "stdout",
     "output_type": "stream",
     "text": [
      "R^2:  0.728023227629\n",
      "MAE:  2851.3634544\n",
      "MSE:  13625553.3889\n",
      "RMSE:  3691.28072475\n"
     ]
    }
   ],
   "source": [
    "print 'R^2: ', Rsquared\n",
    "print 'MAE: ', mean_absolute_error(lm3predtest,y_test)\n",
    "print 'MSE: ', mean_squared_error(lm3predtest,y_test)\n",
    "print 'RMSE: ', np.sqrt(mean_squared_error(lm3predtest,y_test))"
   ]
  },
  {
   "cell_type": "markdown",
   "metadata": {},
   "source": [
    "##Lets Predict actual future sales!\n",
    "###Lets look at what Year/month we have the latest sales for"
   ]
  },
  {
   "cell_type": "code",
   "execution_count": 80,
   "metadata": {
    "collapsed": false
   },
   "outputs": [
    {
     "data": {
      "text/html": [
       "<div style=\"max-height:1000px;max-width:1500px;overflow:auto;\">\n",
       "<table border=\"1\" class=\"dataframe\">\n",
       "  <thead>\n",
       "    <tr style=\"text-align: right;\">\n",
       "      <th></th>\n",
       "      <th>Month</th>\n",
       "      <th>Year</th>\n",
       "      <th>ElantraSales</th>\n",
       "      <th>Unemployment</th>\n",
       "      <th>Queries</th>\n",
       "      <th>CPI_energy</th>\n",
       "      <th>CPI_all</th>\n",
       "      <th>MonthFac</th>\n",
       "    </tr>\n",
       "  </thead>\n",
       "  <tbody>\n",
       "    <tr>\n",
       "      <th>9</th>\n",
       "      <td>2</td>\n",
       "      <td>2014</td>\n",
       "      <td>16393</td>\n",
       "      <td>6.7</td>\n",
       "      <td>240</td>\n",
       "      <td>246.389</td>\n",
       "      <td>235.169</td>\n",
       "      <td>Feb</td>\n",
       "    </tr>\n",
       "    <tr>\n",
       "      <th>4</th>\n",
       "      <td>1</td>\n",
       "      <td>2014</td>\n",
       "      <td>15326</td>\n",
       "      <td>6.6</td>\n",
       "      <td>232</td>\n",
       "      <td>247.575</td>\n",
       "      <td>234.933</td>\n",
       "      <td>Jan</td>\n",
       "    </tr>\n",
       "    <tr>\n",
       "      <th>49</th>\n",
       "      <td>12</td>\n",
       "      <td>2013</td>\n",
       "      <td>21692</td>\n",
       "      <td>6.7</td>\n",
       "      <td>279</td>\n",
       "      <td>246.189</td>\n",
       "      <td>234.594</td>\n",
       "      <td>Dec</td>\n",
       "    </tr>\n",
       "    <tr>\n",
       "      <th>45</th>\n",
       "      <td>11</td>\n",
       "      <td>2013</td>\n",
       "      <td>16751</td>\n",
       "      <td>7.0</td>\n",
       "      <td>231</td>\n",
       "      <td>242.301</td>\n",
       "      <td>234.033</td>\n",
       "      <td>Nov</td>\n",
       "    </tr>\n",
       "    <tr>\n",
       "      <th>41</th>\n",
       "      <td>10</td>\n",
       "      <td>2013</td>\n",
       "      <td>14876</td>\n",
       "      <td>7.2</td>\n",
       "      <td>223</td>\n",
       "      <td>243.374</td>\n",
       "      <td>233.782</td>\n",
       "      <td>Oct</td>\n",
       "    </tr>\n",
       "  </tbody>\n",
       "</table>\n",
       "</div>"
      ],
      "text/plain": [
       "    Month  Year  ElantraSales  Unemployment  Queries  CPI_energy  CPI_all  \\\n",
       "9       2  2014         16393           6.7      240     246.389  235.169   \n",
       "4       1  2014         15326           6.6      232     247.575  234.933   \n",
       "49     12  2013         21692           6.7      279     246.189  234.594   \n",
       "45     11  2013         16751           7.0      231     242.301  234.033   \n",
       "41     10  2013         14876           7.2      223     243.374  233.782   \n",
       "\n",
       "   MonthFac  \n",
       "9       Feb  \n",
       "4       Jan  \n",
       "49      Dec  \n",
       "45      Nov  \n",
       "41      Oct  "
      ]
     },
     "execution_count": 80,
     "metadata": {},
     "output_type": "execute_result"
    }
   ],
   "source": [
    "df.sort(['Year','Month'], ascending = [0,0]).head()"
   ]
  },
  {
   "cell_type": "code",
   "execution_count": 81,
   "metadata": {
    "collapsed": false
   },
   "outputs": [],
   "source": [
    "#hmm Feb, 2014... brb seeing if I can find sales and the independent variable data for months after March on the web"
   ]
  },
  {
   "cell_type": "markdown",
   "metadata": {},
   "source": [
    "###We are going to try and predict Elantra sales for March 2014 to Feb 2014\n",
    "###Download the unemployment percentage http://data.bls.gov/timeseries/LNS14000000\n",
    "###Download CPI_All from here http://data.bls.gov/cgi-bin/surveymost?cu check the CUUR0000SA0 and download\n",
    "###Download CPI_Energy https://research.stlouisfed.org/fred2/series/CPIENGSL/"
   ]
  },
  {
   "cell_type": "code",
   "execution_count": 87,
   "metadata": {
    "collapsed": false
   },
   "outputs": [],
   "source": [
    "test2 = pd.read_csv(\"C:\\Users\\Neil\\Downloads\\ElantraSales14-15.csv\")\n",
    "#Recreate factor on month\n",
    "test2['MonthFac'] = test2['Month'].apply(lambda x: MonthDict.get(x,x)).astype('category')"
   ]
  },
  {
   "cell_type": "code",
   "execution_count": 90,
   "metadata": {
    "collapsed": false
   },
   "outputs": [
    {
     "name": "stdout",
     "output_type": "stream",
     "text": [
      "<class 'pandas.core.frame.DataFrame'>\n",
      "Int64Index: 12 entries, 0 to 11\n",
      "Data columns (total 6 columns):\n",
      "Month           12 non-null int64\n",
      "Year            12 non-null int64\n",
      "Unemployment    12 non-null float64\n",
      "CPI_Energy      12 non-null float64\n",
      "CPI_all         12 non-null float64\n",
      "MonthFac        12 non-null category\n",
      "dtypes: category(1), float64(3), int64(2)\n",
      "memory usage: 636.0 bytes\n"
     ]
    }
   ],
   "source": [
    "test2.info()"
   ]
  },
  {
   "cell_type": "code",
   "execution_count": 88,
   "metadata": {
    "collapsed": false
   },
   "outputs": [
    {
     "data": {
      "text/html": [
       "<div style=\"max-height:1000px;max-width:1500px;overflow:auto;\">\n",
       "<table border=\"1\" class=\"dataframe\">\n",
       "  <thead>\n",
       "    <tr style=\"text-align: right;\">\n",
       "      <th></th>\n",
       "      <th>Month</th>\n",
       "      <th>Year</th>\n",
       "      <th>Unemployment</th>\n",
       "      <th>CPI_Energy</th>\n",
       "      <th>CPI_all</th>\n",
       "      <th>MonthFac</th>\n",
       "    </tr>\n",
       "  </thead>\n",
       "  <tbody>\n",
       "    <tr>\n",
       "      <th>0</th>\n",
       "      <td>3</td>\n",
       "      <td>2014</td>\n",
       "      <td>6.6</td>\n",
       "      <td>247.301</td>\n",
       "      <td>236.293</td>\n",
       "      <td>Mar</td>\n",
       "    </tr>\n",
       "    <tr>\n",
       "      <th>1</th>\n",
       "      <td>4</td>\n",
       "      <td>2014</td>\n",
       "      <td>6.2</td>\n",
       "      <td>247.035</td>\n",
       "      <td>237.072</td>\n",
       "      <td>Apr</td>\n",
       "    </tr>\n",
       "    <tr>\n",
       "      <th>2</th>\n",
       "      <td>5</td>\n",
       "      <td>2014</td>\n",
       "      <td>6.3</td>\n",
       "      <td>248.862</td>\n",
       "      <td>237.900</td>\n",
       "      <td>May</td>\n",
       "    </tr>\n",
       "    <tr>\n",
       "      <th>3</th>\n",
       "      <td>6</td>\n",
       "      <td>2014</td>\n",
       "      <td>6.1</td>\n",
       "      <td>250.194</td>\n",
       "      <td>238.343</td>\n",
       "      <td>June</td>\n",
       "    </tr>\n",
       "    <tr>\n",
       "      <th>4</th>\n",
       "      <td>7</td>\n",
       "      <td>2014</td>\n",
       "      <td>6.2</td>\n",
       "      <td>249.755</td>\n",
       "      <td>238.250</td>\n",
       "      <td>July</td>\n",
       "    </tr>\n",
       "    <tr>\n",
       "      <th>5</th>\n",
       "      <td>8</td>\n",
       "      <td>2014</td>\n",
       "      <td>6.1</td>\n",
       "      <td>245.612</td>\n",
       "      <td>237.852</td>\n",
       "      <td>Aug</td>\n",
       "    </tr>\n",
       "    <tr>\n",
       "      <th>6</th>\n",
       "      <td>9</td>\n",
       "      <td>2014</td>\n",
       "      <td>5.9</td>\n",
       "      <td>243.843</td>\n",
       "      <td>238.031</td>\n",
       "      <td>Sep</td>\n",
       "    </tr>\n",
       "    <tr>\n",
       "      <th>7</th>\n",
       "      <td>10</td>\n",
       "      <td>2014</td>\n",
       "      <td>5.7</td>\n",
       "      <td>240.863</td>\n",
       "      <td>237.433</td>\n",
       "      <td>Oct</td>\n",
       "    </tr>\n",
       "    <tr>\n",
       "      <th>8</th>\n",
       "      <td>11</td>\n",
       "      <td>2014</td>\n",
       "      <td>5.8</td>\n",
       "      <td>230.897</td>\n",
       "      <td>236.151</td>\n",
       "      <td>Nov</td>\n",
       "    </tr>\n",
       "    <tr>\n",
       "      <th>9</th>\n",
       "      <td>12</td>\n",
       "      <td>2014</td>\n",
       "      <td>5.6</td>\n",
       "      <td>220.070</td>\n",
       "      <td>234.812</td>\n",
       "      <td>Dec</td>\n",
       "    </tr>\n",
       "    <tr>\n",
       "      <th>10</th>\n",
       "      <td>1</td>\n",
       "      <td>2015</td>\n",
       "      <td>5.7</td>\n",
       "      <td>198.727</td>\n",
       "      <td>233.707</td>\n",
       "      <td>Jan</td>\n",
       "    </tr>\n",
       "    <tr>\n",
       "      <th>11</th>\n",
       "      <td>2</td>\n",
       "      <td>2015</td>\n",
       "      <td>5.5</td>\n",
       "      <td>200.622</td>\n",
       "      <td>234.722</td>\n",
       "      <td>Feb</td>\n",
       "    </tr>\n",
       "  </tbody>\n",
       "</table>\n",
       "</div>"
      ],
      "text/plain": [
       "    Month  Year  Unemployment  CPI_Energy  CPI_all MonthFac\n",
       "0       3  2014           6.6     247.301  236.293      Mar\n",
       "1       4  2014           6.2     247.035  237.072      Apr\n",
       "2       5  2014           6.3     248.862  237.900      May\n",
       "3       6  2014           6.1     250.194  238.343     June\n",
       "4       7  2014           6.2     249.755  238.250     July\n",
       "5       8  2014           6.1     245.612  237.852      Aug\n",
       "6       9  2014           5.9     243.843  238.031      Sep\n",
       "7      10  2014           5.7     240.863  237.433      Oct\n",
       "8      11  2014           5.8     230.897  236.151      Nov\n",
       "9      12  2014           5.6     220.070  234.812      Dec\n",
       "10      1  2015           5.7     198.727  233.707      Jan\n",
       "11      2  2015           5.5     200.622  234.722      Feb"
      ]
     },
     "execution_count": 88,
     "metadata": {},
     "output_type": "execute_result"
    }
   ],
   "source": [
    "#Your dataframe should look like this\n",
    "test2"
   ]
  },
  {
   "cell_type": "code",
   "execution_count": 91,
   "metadata": {
    "collapsed": false
   },
   "outputs": [],
   "source": [
    "X_test2 = pd.concat([test2.iloc[:,2:5],pd.get_dummies(test2['MonthFac'])],axis =1)\n",
    "\n",
    "\n",
    "lm3predtest2 = lm3.predict(X_test2)"
   ]
  },
  {
   "cell_type": "code",
   "execution_count": 94,
   "metadata": {
    "collapsed": false
   },
   "outputs": [],
   "source": [
    "#add to Dataframe\n",
    "test2['PredElantraSales'] = lm3predtest2.astype(int)"
   ]
  },
  {
   "cell_type": "code",
   "execution_count": 95,
   "metadata": {
    "collapsed": false
   },
   "outputs": [
    {
     "data": {
      "text/html": [
       "<div style=\"max-height:1000px;max-width:1500px;overflow:auto;\">\n",
       "<table border=\"1\" class=\"dataframe\">\n",
       "  <thead>\n",
       "    <tr style=\"text-align: right;\">\n",
       "      <th></th>\n",
       "      <th>Month</th>\n",
       "      <th>Year</th>\n",
       "      <th>Unemployment</th>\n",
       "      <th>CPI_Energy</th>\n",
       "      <th>CPI_all</th>\n",
       "      <th>MonthFac</th>\n",
       "      <th>PredElantraSales</th>\n",
       "    </tr>\n",
       "  </thead>\n",
       "  <tbody>\n",
       "    <tr>\n",
       "      <th>0</th>\n",
       "      <td>3</td>\n",
       "      <td>2014</td>\n",
       "      <td>6.6</td>\n",
       "      <td>247.301</td>\n",
       "      <td>236.293</td>\n",
       "      <td>Mar</td>\n",
       "      <td>20749</td>\n",
       "    </tr>\n",
       "    <tr>\n",
       "      <th>1</th>\n",
       "      <td>4</td>\n",
       "      <td>2014</td>\n",
       "      <td>6.2</td>\n",
       "      <td>247.035</td>\n",
       "      <td>237.072</td>\n",
       "      <td>Apr</td>\n",
       "      <td>23610</td>\n",
       "    </tr>\n",
       "    <tr>\n",
       "      <th>2</th>\n",
       "      <td>5</td>\n",
       "      <td>2014</td>\n",
       "      <td>6.3</td>\n",
       "      <td>248.862</td>\n",
       "      <td>237.900</td>\n",
       "      <td>May</td>\n",
       "      <td>21910</td>\n",
       "    </tr>\n",
       "    <tr>\n",
       "      <th>3</th>\n",
       "      <td>6</td>\n",
       "      <td>2014</td>\n",
       "      <td>6.1</td>\n",
       "      <td>250.194</td>\n",
       "      <td>238.343</td>\n",
       "      <td>June</td>\n",
       "      <td>25029</td>\n",
       "    </tr>\n",
       "    <tr>\n",
       "      <th>4</th>\n",
       "      <td>7</td>\n",
       "      <td>2014</td>\n",
       "      <td>6.2</td>\n",
       "      <td>249.755</td>\n",
       "      <td>238.250</td>\n",
       "      <td>July</td>\n",
       "      <td>24622</td>\n",
       "    </tr>\n",
       "  </tbody>\n",
       "</table>\n",
       "</div>"
      ],
      "text/plain": [
       "   Month  Year  Unemployment  CPI_Energy  CPI_all MonthFac  PredElantraSales\n",
       "0      3  2014           6.6     247.301  236.293      Mar             20749\n",
       "1      4  2014           6.2     247.035  237.072      Apr             23610\n",
       "2      5  2014           6.3     248.862  237.900      May             21910\n",
       "3      6  2014           6.1     250.194  238.343     June             25029\n",
       "4      7  2014           6.2     249.755  238.250     July             24622"
      ]
     },
     "execution_count": 95,
     "metadata": {},
     "output_type": "execute_result"
    }
   ],
   "source": [
    "test2.head()"
   ]
  },
  {
   "cell_type": "code",
   "execution_count": 100,
   "metadata": {
    "collapsed": false
   },
   "outputs": [],
   "source": [
    "#Lets graph the actual sales we have and the sales for the out of sample\n",
    "df['Date'] =  pd.to_datetime(df['Year'].astype(str) + df['Month'].astype(str),format = \"%Y%m\")\n",
    "test2['Date'] = pd.to_datetime(test2['Year'].astype(str) + test2['Month'].astype(str),format = \"%Y%m\")\n",
    "#df.index=pd.to_datetime(df.Y+df.M+df.D,format=\"%Y%m%d\")"
   ]
  },
  {
   "cell_type": "code",
   "execution_count": 106,
   "metadata": {
    "collapsed": false
   },
   "outputs": [
    {
     "name": "stdout",
     "output_type": "stream",
     "text": [
      "<class 'pandas.core.frame.DataFrame'>\n",
      "Int64Index: 50 entries, 0 to 49\n",
      "Data columns (total 9 columns):\n",
      "Month           50 non-null int64\n",
      "Year            50 non-null int64\n",
      "ElantraSales    50 non-null int64\n",
      "Unemployment    50 non-null float64\n",
      "Queries         50 non-null int64\n",
      "CPI_energy      50 non-null float64\n",
      "CPI_all         50 non-null float64\n",
      "MonthFac        50 non-null category\n",
      "Date            50 non-null datetime64[ns]\n",
      "dtypes: category(1), datetime64[ns](1), float64(3), int64(4)\n",
      "memory usage: 3.6 KB\n"
     ]
    }
   ],
   "source": [
    "df.info()"
   ]
  },
  {
   "cell_type": "code",
   "execution_count": 142,
   "metadata": {
    "collapsed": false
   },
   "outputs": [],
   "source": [
    "df.sort(['Year','Month'], ascending = [1,1], inplace = True)"
   ]
  },
  {
   "cell_type": "code",
   "execution_count": 143,
   "metadata": {
    "collapsed": false
   },
   "outputs": [
    {
     "data": {
      "image/png": "[encoded data removed]",
      "text/plain": [
       "<matplotlib.figure.Figure at 0xb77e130>"
      ]
     },
     "metadata": {},
     "output_type": "display_data"
    }
   ],
   "source": [
    "plt.figure(figsize=(10,8)) \n",
    "plt.plot(df['Date'], df['ElantraSales'], 'r', test2['Date'], test2['PredElantraSales'], 'g')\n",
    "plt.axis([df['Date'].min(), pd.to_datetime('2015-04-01'),0,28000])\n",
    "plt.show()"
   ]
  }
 ],
 "metadata": {
  "kernelspec": {
   "display_name": "Python 2",
   "language": "python",
   "name": "python2"
  },
  "language_info": {
   "codemirror_mode": {
    "name": "ipython",
    "version": 2
   },
   "file_extension": ".py",
   "mimetype": "text/x-python",
   "name": "python",
   "nbconvert_exporter": "python",
   "pygments_lexer": "ipython2",
   "version": "2.7.10"
  }
 },
 "nbformat": 4,
 "nbformat_minor": 0
}
