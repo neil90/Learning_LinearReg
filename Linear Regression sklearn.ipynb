{
 "metadata": {
  "name": "",
  "signature": "sha256:6e644f440e7814cfd754af73ccb61fcd3bf949117bd711977e8e3eb9dd10ea72"
 },
 "nbformat": 3,
 "nbformat_minor": 0,
 "worksheets": [
  {
   "cells": [
    {
     "cell_type": "code",
     "collapsed": false,
     "input": [
      "import matplotlib.pyplot as plt\n",
      "import pandas as pd\n",
      "import numpy as np\n",
      "import matplotlib as mpl\n",
      "import seaborn as sns\n",
      "\n",
      "%matplotlib inline"
     ],
     "language": "python",
     "metadata": {},
     "outputs": [],
     "prompt_number": 480
    },
    {
     "cell_type": "code",
     "collapsed": false,
     "input": [
      "file = r'C:\\Users\\Neil\\Downloads\\state.data.csv'\n",
      "df = pd.read_csv(file)"
     ],
     "language": "python",
     "metadata": {},
     "outputs": [],
     "prompt_number": 481
    },
    {
     "cell_type": "code",
     "collapsed": false,
     "input": [
      "df.head()"
     ],
     "language": "python",
     "metadata": {},
     "outputs": [
      {
       "html": [
        "<div style=\"max-height:1000px;max-width:1500px;overflow:auto;\">\n",
        "<table border=\"1\" class=\"dataframe\">\n",
        "  <thead>\n",
        "    <tr style=\"text-align: right;\">\n",
        "      <th></th>\n",
        "      <th>Population</th>\n",
        "      <th>Income</th>\n",
        "      <th>Illiteracy</th>\n",
        "      <th>Life.Exp</th>\n",
        "      <th>Murder</th>\n",
        "      <th>HS.Grad</th>\n",
        "      <th>Frost</th>\n",
        "      <th>Area</th>\n",
        "      <th>state.abb</th>\n",
        "      <th>state.area</th>\n",
        "      <th>x</th>\n",
        "      <th>y</th>\n",
        "      <th>state.division</th>\n",
        "      <th>state.name</th>\n",
        "      <th>state.region</th>\n",
        "    </tr>\n",
        "  </thead>\n",
        "  <tbody>\n",
        "    <tr>\n",
        "      <th>0</th>\n",
        "      <td>3615</td>\n",
        "      <td>3624</td>\n",
        "      <td>2.1</td>\n",
        "      <td>69.05</td>\n",
        "      <td>15.1</td>\n",
        "      <td>41.3</td>\n",
        "      <td>20</td>\n",
        "      <td>50708</td>\n",
        "      <td>AL</td>\n",
        "      <td>51609</td>\n",
        "      <td>-86.7509</td>\n",
        "      <td>32.5901</td>\n",
        "      <td>East South Central</td>\n",
        "      <td>Alabama</td>\n",
        "      <td>South</td>\n",
        "    </tr>\n",
        "    <tr>\n",
        "      <th>1</th>\n",
        "      <td>365</td>\n",
        "      <td>6315</td>\n",
        "      <td>1.5</td>\n",
        "      <td>69.31</td>\n",
        "      <td>11.3</td>\n",
        "      <td>66.7</td>\n",
        "      <td>152</td>\n",
        "      <td>566432</td>\n",
        "      <td>AK</td>\n",
        "      <td>589757</td>\n",
        "      <td>-127.2500</td>\n",
        "      <td>49.2500</td>\n",
        "      <td>Pacific</td>\n",
        "      <td>Alaska</td>\n",
        "      <td>West</td>\n",
        "    </tr>\n",
        "    <tr>\n",
        "      <th>2</th>\n",
        "      <td>2212</td>\n",
        "      <td>4530</td>\n",
        "      <td>1.8</td>\n",
        "      <td>70.55</td>\n",
        "      <td>7.8</td>\n",
        "      <td>58.1</td>\n",
        "      <td>15</td>\n",
        "      <td>113417</td>\n",
        "      <td>AZ</td>\n",
        "      <td>113909</td>\n",
        "      <td>-111.6250</td>\n",
        "      <td>34.2192</td>\n",
        "      <td>Mountain</td>\n",
        "      <td>Arizona</td>\n",
        "      <td>West</td>\n",
        "    </tr>\n",
        "    <tr>\n",
        "      <th>3</th>\n",
        "      <td>2110</td>\n",
        "      <td>3378</td>\n",
        "      <td>1.9</td>\n",
        "      <td>70.66</td>\n",
        "      <td>10.1</td>\n",
        "      <td>39.9</td>\n",
        "      <td>65</td>\n",
        "      <td>51945</td>\n",
        "      <td>AR</td>\n",
        "      <td>53104</td>\n",
        "      <td>-92.2992</td>\n",
        "      <td>34.7336</td>\n",
        "      <td>West South Central</td>\n",
        "      <td>Arkansas</td>\n",
        "      <td>South</td>\n",
        "    </tr>\n",
        "    <tr>\n",
        "      <th>4</th>\n",
        "      <td>21198</td>\n",
        "      <td>5114</td>\n",
        "      <td>1.1</td>\n",
        "      <td>71.71</td>\n",
        "      <td>10.3</td>\n",
        "      <td>62.6</td>\n",
        "      <td>20</td>\n",
        "      <td>156361</td>\n",
        "      <td>CA</td>\n",
        "      <td>158693</td>\n",
        "      <td>-119.7730</td>\n",
        "      <td>36.5341</td>\n",
        "      <td>Pacific</td>\n",
        "      <td>California</td>\n",
        "      <td>West</td>\n",
        "    </tr>\n",
        "  </tbody>\n",
        "</table>\n",
        "</div>"
       ],
       "metadata": {},
       "output_type": "pyout",
       "prompt_number": 482,
       "text": [
        "   Population  Income  Illiteracy  Life.Exp  Murder  HS.Grad  Frost    Area  \\\n",
        "0        3615    3624         2.1     69.05    15.1     41.3     20   50708   \n",
        "1         365    6315         1.5     69.31    11.3     66.7    152  566432   \n",
        "2        2212    4530         1.8     70.55     7.8     58.1     15  113417   \n",
        "3        2110    3378         1.9     70.66    10.1     39.9     65   51945   \n",
        "4       21198    5114         1.1     71.71    10.3     62.6     20  156361   \n",
        "\n",
        "  state.abb  state.area         x        y      state.division  state.name  \\\n",
        "0        AL       51609  -86.7509  32.5901  East South Central     Alabama   \n",
        "1        AK      589757 -127.2500  49.2500             Pacific      Alaska   \n",
        "2        AZ      113909 -111.6250  34.2192            Mountain     Arizona   \n",
        "3        AR       53104  -92.2992  34.7336  West South Central    Arkansas   \n",
        "4        CA      158693 -119.7730  36.5341             Pacific  California   \n",
        "\n",
        "  state.region  \n",
        "0        South  \n",
        "1         West  \n",
        "2         West  \n",
        "3        South  \n",
        "4         West  "
       ]
      }
     ],
     "prompt_number": 482
    },
    {
     "cell_type": "code",
     "collapsed": false,
     "input": [
      "df.info()"
     ],
     "language": "python",
     "metadata": {},
     "outputs": [
      {
       "output_type": "stream",
       "stream": "stdout",
       "text": [
        "<class 'pandas.core.frame.DataFrame'>\n",
        "Int64Index: 50 entries, 0 to 49\n",
        "Data columns (total 15 columns):\n",
        "Population        50 non-null int64\n",
        "Income            50 non-null int64\n",
        "Illiteracy        50 non-null float64\n",
        "Life.Exp          50 non-null float64\n",
        "Murder            50 non-null float64\n",
        "HS.Grad           50 non-null float64\n",
        "Frost             50 non-null int64\n",
        "Area              50 non-null int64\n",
        "state.abb         50 non-null object\n",
        "state.area        50 non-null int64\n",
        "x                 50 non-null float64\n",
        "y                 50 non-null float64\n",
        "state.division    50 non-null object\n",
        "state.name        50 non-null object\n",
        "state.region      50 non-null object\n",
        "dtypes: float64(6), int64(5), object(4)\n",
        "memory usage: 5.5+ KB\n"
       ]
      }
     ],
     "prompt_number": 483
    },
    {
     "cell_type": "code",
     "collapsed": false,
     "input": [
      "N = 50\n",
      "colors = np.linspace(0,1,N)\n",
      "mpl.rcParams['ytick.labelsize'] = 14\n",
      "mpl.rcParams['xtick.labelsize'] = 14\n",
      "fig = plt.figure(figsize=(14,8))\n",
      "fig.suptitle('United States', fontsize=14, fontweight='bold')\n",
      "ax = fig.add_subplot(111,axisbg='black')\n",
      "ax.grid(b=False)\n",
      "\n",
      "ax.scatter(df['x'], df['y'],c=colors ,cmap = \"winter\")\n"
     ],
     "language": "python",
     "metadata": {},
     "outputs": [
      {
       "metadata": {},
       "output_type": "pyout",
       "prompt_number": 486,
       "text": [
        "<matplotlib.collections.PathCollection at 0x200cf670>"
       ]
      },
      {
       "metadata": {},
       "output_type": "display_data",
       "png": "[encoded data removed]",
       "text": [
        "<matplotlib.figure.Figure at 0x20164450>"
       ]
      }
     ],
     "prompt_number": 486
    },
    {
     "cell_type": "code",
     "collapsed": false,
     "input": [
      "#Using the tapply command, determine which region of the US (West, North Central, South, or Northeast) \n",
      "#has the highest average high school graduation rate of all the states in the region:\n",
      "HSGrad_byregion = df[['HS.Grad','state.region']].groupby(['state.region']).mean()\n",
      "HSGrad_byregion\n",
      "#ANS: West"
     ],
     "language": "python",
     "metadata": {},
     "outputs": [
      {
       "html": [
        "<div style=\"max-height:1000px;max-width:1500px;overflow:auto;\">\n",
        "<table border=\"1\" class=\"dataframe\">\n",
        "  <thead>\n",
        "    <tr style=\"text-align: right;\">\n",
        "      <th></th>\n",
        "      <th>HS.Grad</th>\n",
        "    </tr>\n",
        "    <tr>\n",
        "      <th>state.region</th>\n",
        "      <th></th>\n",
        "    </tr>\n",
        "  </thead>\n",
        "  <tbody>\n",
        "    <tr>\n",
        "      <th>North Central</th>\n",
        "      <td>54.516667</td>\n",
        "    </tr>\n",
        "    <tr>\n",
        "      <th>Northeast</th>\n",
        "      <td>53.966667</td>\n",
        "    </tr>\n",
        "    <tr>\n",
        "      <th>South</th>\n",
        "      <td>44.343750</td>\n",
        "    </tr>\n",
        "    <tr>\n",
        "      <th>West</th>\n",
        "      <td>62.000000</td>\n",
        "    </tr>\n",
        "  </tbody>\n",
        "</table>\n",
        "</div>"
       ],
       "metadata": {},
       "output_type": "pyout",
       "prompt_number": 489,
       "text": [
        "                 HS.Grad\n",
        "state.region            \n",
        "North Central  54.516667\n",
        "Northeast      53.966667\n",
        "South          44.343750\n",
        "West           62.000000"
       ]
      }
     ],
     "prompt_number": 489
    },
    {
     "cell_type": "code",
     "collapsed": false,
     "input": [
      "#Now, make a boxplot of the murder rate by region (for more information about creating boxplots in R, type ?boxplot in your console).\n",
      "#Which region has the highest median murder rate?\n",
      "fig = plt.figure(figsize=(14,8))\n",
      "fig.suptitle('Murder by Region', fontsize=14, fontweight='bold')\n",
      "sns.boxplot(x = 'state.region', y = 'Murder', data = df, palette = 'PuBuGn_d')\n",
      "\n",
      "#Ans: South"
     ],
     "language": "python",
     "metadata": {},
     "outputs": [
      {
       "metadata": {},
       "output_type": "pyout",
       "prompt_number": 490,
       "text": [
        "<matplotlib.axes._subplots.AxesSubplot at 0x1ea4ec90>"
       ]
      },
      {
       "metadata": {},
       "output_type": "display_data",
       "png": "[encoded data removed]",
       "text": [
        "<matplotlib.figure.Figure at 0x1ea4e930>"
       ]
      }
     ],
     "prompt_number": 490
    },
    {
     "cell_type": "code",
     "collapsed": false,
     "input": [
      "#You should see that there is an outlier in the Northeast region \n",
      "#of the boxplot you just generated. Which state does this correspond to?\n",
      "df_northeast = df[['state.name','Murder' ,'state.region']].loc[df['state.region'] == 'Northeast']\n",
      "df_northeast.sort('Murder', ascending = False)\n",
      "\n",
      "#Ans: New York"
     ],
     "language": "python",
     "metadata": {},
     "outputs": [
      {
       "html": [
        "<div style=\"max-height:1000px;max-width:1500px;overflow:auto;\">\n",
        "<table border=\"1\" class=\"dataframe\">\n",
        "  <thead>\n",
        "    <tr style=\"text-align: right;\">\n",
        "      <th></th>\n",
        "      <th>state.name</th>\n",
        "      <th>Murder</th>\n",
        "      <th>state.region</th>\n",
        "    </tr>\n",
        "  </thead>\n",
        "  <tbody>\n",
        "    <tr>\n",
        "      <th>31</th>\n",
        "      <td>New York</td>\n",
        "      <td>10.9</td>\n",
        "      <td>Northeast</td>\n",
        "    </tr>\n",
        "    <tr>\n",
        "      <th>37</th>\n",
        "      <td>Pennsylvania</td>\n",
        "      <td>6.1</td>\n",
        "      <td>Northeast</td>\n",
        "    </tr>\n",
        "    <tr>\n",
        "      <th>44</th>\n",
        "      <td>Vermont</td>\n",
        "      <td>5.5</td>\n",
        "      <td>Northeast</td>\n",
        "    </tr>\n",
        "    <tr>\n",
        "      <th>29</th>\n",
        "      <td>New Jersey</td>\n",
        "      <td>5.2</td>\n",
        "      <td>Northeast</td>\n",
        "    </tr>\n",
        "    <tr>\n",
        "      <th>20</th>\n",
        "      <td>Massachusetts</td>\n",
        "      <td>3.3</td>\n",
        "      <td>Northeast</td>\n",
        "    </tr>\n",
        "    <tr>\n",
        "      <th>28</th>\n",
        "      <td>New Hampshire</td>\n",
        "      <td>3.3</td>\n",
        "      <td>Northeast</td>\n",
        "    </tr>\n",
        "    <tr>\n",
        "      <th>6</th>\n",
        "      <td>Connecticut</td>\n",
        "      <td>3.1</td>\n",
        "      <td>Northeast</td>\n",
        "    </tr>\n",
        "    <tr>\n",
        "      <th>18</th>\n",
        "      <td>Maine</td>\n",
        "      <td>2.7</td>\n",
        "      <td>Northeast</td>\n",
        "    </tr>\n",
        "    <tr>\n",
        "      <th>38</th>\n",
        "      <td>Rhode Island</td>\n",
        "      <td>2.4</td>\n",
        "      <td>Northeast</td>\n",
        "    </tr>\n",
        "  </tbody>\n",
        "</table>\n",
        "</div>"
       ],
       "metadata": {},
       "output_type": "pyout",
       "prompt_number": 491,
       "text": [
        "       state.name  Murder state.region\n",
        "31       New York    10.9    Northeast\n",
        "37   Pennsylvania     6.1    Northeast\n",
        "44        Vermont     5.5    Northeast\n",
        "29     New Jersey     5.2    Northeast\n",
        "20  Massachusetts     3.3    Northeast\n",
        "28  New Hampshire     3.3    Northeast\n",
        "6     Connecticut     3.1    Northeast\n",
        "18          Maine     2.7    Northeast\n",
        "38   Rhode Island     2.4    Northeast"
       ]
      }
     ],
     "prompt_number": 491
    },
    {
     "cell_type": "code",
     "collapsed": false,
     "input": [
      "from sklearn.linear_model import LinearRegression\n",
      "from sklearn.feature_selection import f_regression\n",
      "from sklearn.metrics import mean_squared_error, mean_absolute_error, r2_score\n",
      "from sklearn.feature_selection import RFE\n",
      "#We would like to build a model to predict life expectancy by state using the state statistics we have in our dataset.\n",
      "#Build the model with all potential variables included (Population, Income, \n",
      "#Illiteracy, Murder, HS.Grad, Frost, and Area). Note that you should use the variable \"Area\" in your model, NOT the variable \"state.area\".\n",
      "#What is the coefficient for \"Income\" in your linear regression mode?\n",
      "\n",
      "feature_cols =['Population', 'Income', 'Illiteracy', 'Murder', 'HS.Grad', 'Frost', 'Area']\n",
      "X = df[feature_cols]\n",
      "y = df['Life.Exp'].values\n",
      "\n",
      "model = LinearRegression()\n",
      "rfe = RFE(model, 4)\n",
      "\n",
      "\n",
      "selectors = rfe.fit(X, y)\n",
      "\n",
      "print(rfe.support_)\n",
      "print(rfe.ranking_)"
     ],
     "language": "python",
     "metadata": {},
     "outputs": [
      {
       "output_type": "stream",
       "stream": "stdout",
       "text": [
        "[False False  True  True  True  True False]\n",
        "[2 3 1 1 1 1 4]\n"
       ]
      }
     ],
     "prompt_number": 544
    },
    {
     "cell_type": "code",
     "collapsed": false,
     "input": [
      "#Lets create linear model with the 4 columns\n",
      "feature_cols2 =[ 'Illiteracy', 'Murder', 'HS.Grad', 'Frost']\n",
      "X = df[feature_cols2]\n",
      "\n",
      "lm = LinearRegression()\n",
      "lm.fit(X,y)\n",
      "\n",
      "lmpredict = lm.predict(X)"
     ],
     "language": "python",
     "metadata": {},
     "outputs": [],
     "prompt_number": 550
    },
    {
     "cell_type": "code",
     "collapsed": false,
     "input": [
      "def rsquared_adj(predictors, rsquared, N):\n",
      "    N = len(N)\n",
      "    predictors = len(predictors)\n",
      "    return 1- ((1-rsquared)*(N-1))/(N-predictors-1)"
     ],
     "language": "python",
     "metadata": {},
     "outputs": [],
     "prompt_number": 551
    },
    {
     "cell_type": "code",
     "collapsed": false,
     "input": [
      "from sklearn.feature_selection import f_regression\n",
      "\n",
      "#lm_f, lm_p = f_regression(X,y)\n",
      "print 'R^2: ', lm.score(X,y)\n",
      "print 'R^2 Adj: ', rsquared_adj(feature_cols,lm.score(X,y),X)\n",
      "print \"\\nIntercept :\", lm.intercept_\n",
      "for i in zip(feature_cols2,lm.coef_,lm_f,lm_p):\n",
      "    print \"{0} : {1}\".format(i[0],i[1])#,i[2],i[3])\n",
      "    \n",
      "#Ans: -.00000218"
     ],
     "language": "python",
     "metadata": {},
     "outputs": [
      {
       "output_type": "stream",
       "stream": "stdout",
       "text": [
        "R^2:  0.714608447412\n",
        "R^2 Adj:  0.667043188647\n",
        "\n",
        "Intercept : 71.5199584687\n",
        "Illiteracy : -0.181607775457\n",
        "Murder : -0.273117562655\n",
        "HS.Grad : 0.0449697088402\n",
        "Frost : -0.00767822411692\n"
       ]
      }
     ],
     "prompt_number": 553
    },
    {
     "cell_type": "code",
     "collapsed": false,
     "input": [
      "mpl.rcParams['xtick.labelsize'] = 12\n",
      "mpl.rcParams['ytick.labelsize'] = 12\n",
      "f, (ax) = plt.subplots(1,4, figsize =(18,7),sharey=True)\n",
      "#look graph each of variables to the dependent to see which ones we can clearly see have no relationship even when transformed with log\n",
      "\n",
      "sns.regplot(x=df[feature_cols[0]].apply(np.log), y=\"Life.Exp\",data=df,ax =ax[0] ,color = 'Red',fit_reg = False) \n",
      "sns.regplot(x=feature_cols[3], y=\"Life.Exp\",data=df,ax =ax[1] ,color = 'Red',fit_reg = False).set_ylabel(\"\") \n",
      "sns.regplot(x=feature_cols[1], y=\"Life.Exp\",data=df,ax =ax[2] ,color = 'Blue',fit_reg = False).set_ylabel(\"\")\n",
      "sns.regplot(x=feature_cols[2], y=\"Life.Exp\",data=df,ax =ax[3] ,color = 'Green',fit_reg = False).set_ylabel(\"\")\n",
      "\n",
      "#axes = g.axes\n",
      "#axes.set_xlim(0,25000)"
     ],
     "language": "python",
     "metadata": {},
     "outputs": [
      {
       "metadata": {},
       "output_type": "pyout",
       "prompt_number": 554,
       "text": [
        "<matplotlib.text.Text at 0x226c1b50>"
       ]
      },
      {
       "metadata": {},
       "output_type": "display_data",
       "png": "[encoded data removed]",
       "text": [
        "<matplotlib.figure.Figure at 0x21f85470>"
       ]
      }
     ],
     "prompt_number": 554
    },
    {
     "cell_type": "code",
     "collapsed": false,
     "input": [
      "f, (ax) = plt.subplots(1,3, figsize =(16,7),sharey=True)\n",
      "sns.regplot(x=feature_cols[4], y=\"Life.Exp\",data=df,ax =ax[0] ,color = 'Purple',fit_reg = False) #keep\n",
      "sns.regplot(x=feature_cols[5], y=\"Life.Exp\",data=df,ax =ax[1] ,color = 'Black',fit_reg = False).set_ylabel(\"\") # keep\n",
      "sns.regplot(x=df[feature_cols[6]].apply(np.log), y=\"Life.Exp\",data=df,ax =ax[2] ,color = 'Red',fit_reg = False).set_ylabel(\"\") #keep"
     ],
     "language": "python",
     "metadata": {},
     "outputs": [
      {
       "metadata": {},
       "output_type": "pyout",
       "prompt_number": 555,
       "text": [
        "<matplotlib.text.Text at 0x22359eb0>"
       ]
      },
      {
       "metadata": {},
       "output_type": "display_data",
       "png": "[encoded data removed]",
       "text": [
        "<matplotlib.figure.Figure at 0x227b23b0>"
       ]
      }
     ],
     "prompt_number": 555
    },
    {
     "cell_type": "code",
     "collapsed": false,
     "input": [
      "#correlation Matrix Pandas\n",
      "df[feature_cols].corr()"
     ],
     "language": "python",
     "metadata": {},
     "outputs": [
      {
       "html": [
        "<div style=\"max-height:1000px;max-width:1500px;overflow:auto;\">\n",
        "<table border=\"1\" class=\"dataframe\">\n",
        "  <thead>\n",
        "    <tr style=\"text-align: right;\">\n",
        "      <th></th>\n",
        "      <th>Population</th>\n",
        "      <th>Income</th>\n",
        "      <th>Illiteracy</th>\n",
        "      <th>Murder</th>\n",
        "      <th>HS.Grad</th>\n",
        "      <th>Frost</th>\n",
        "      <th>Area</th>\n",
        "    </tr>\n",
        "  </thead>\n",
        "  <tbody>\n",
        "    <tr>\n",
        "      <th>Population</th>\n",
        "      <td>1.000000</td>\n",
        "      <td>0.208228</td>\n",
        "      <td>0.107622</td>\n",
        "      <td>0.343643</td>\n",
        "      <td>-0.098490</td>\n",
        "      <td>-0.332152</td>\n",
        "      <td>0.022544</td>\n",
        "    </tr>\n",
        "    <tr>\n",
        "      <th>Income</th>\n",
        "      <td>0.208228</td>\n",
        "      <td>1.000000</td>\n",
        "      <td>-0.437075</td>\n",
        "      <td>-0.230078</td>\n",
        "      <td>0.619932</td>\n",
        "      <td>0.226282</td>\n",
        "      <td>0.363315</td>\n",
        "    </tr>\n",
        "    <tr>\n",
        "      <th>Illiteracy</th>\n",
        "      <td>0.107622</td>\n",
        "      <td>-0.437075</td>\n",
        "      <td>1.000000</td>\n",
        "      <td>0.702975</td>\n",
        "      <td>-0.657189</td>\n",
        "      <td>-0.671947</td>\n",
        "      <td>0.077261</td>\n",
        "    </tr>\n",
        "    <tr>\n",
        "      <th>Murder</th>\n",
        "      <td>0.343643</td>\n",
        "      <td>-0.230078</td>\n",
        "      <td>0.702975</td>\n",
        "      <td>1.000000</td>\n",
        "      <td>-0.487971</td>\n",
        "      <td>-0.538883</td>\n",
        "      <td>0.228390</td>\n",
        "    </tr>\n",
        "    <tr>\n",
        "      <th>HS.Grad</th>\n",
        "      <td>-0.098490</td>\n",
        "      <td>0.619932</td>\n",
        "      <td>-0.657189</td>\n",
        "      <td>-0.487971</td>\n",
        "      <td>1.000000</td>\n",
        "      <td>0.366780</td>\n",
        "      <td>0.333542</td>\n",
        "    </tr>\n",
        "    <tr>\n",
        "      <th>Frost</th>\n",
        "      <td>-0.332152</td>\n",
        "      <td>0.226282</td>\n",
        "      <td>-0.671947</td>\n",
        "      <td>-0.538883</td>\n",
        "      <td>0.366780</td>\n",
        "      <td>1.000000</td>\n",
        "      <td>0.059229</td>\n",
        "    </tr>\n",
        "    <tr>\n",
        "      <th>Area</th>\n",
        "      <td>0.022544</td>\n",
        "      <td>0.363315</td>\n",
        "      <td>0.077261</td>\n",
        "      <td>0.228390</td>\n",
        "      <td>0.333542</td>\n",
        "      <td>0.059229</td>\n",
        "      <td>1.000000</td>\n",
        "    </tr>\n",
        "  </tbody>\n",
        "</table>\n",
        "</div>"
       ],
       "metadata": {},
       "output_type": "pyout",
       "prompt_number": 556,
       "text": [
        "            Population    Income  Illiteracy    Murder   HS.Grad     Frost  \\\n",
        "Population    1.000000  0.208228    0.107622  0.343643 -0.098490 -0.332152   \n",
        "Income        0.208228  1.000000   -0.437075 -0.230078  0.619932  0.226282   \n",
        "Illiteracy    0.107622 -0.437075    1.000000  0.702975 -0.657189 -0.671947   \n",
        "Murder        0.343643 -0.230078    0.702975  1.000000 -0.487971 -0.538883   \n",
        "HS.Grad      -0.098490  0.619932   -0.657189 -0.487971  1.000000  0.366780   \n",
        "Frost        -0.332152  0.226282   -0.671947 -0.538883  0.366780  1.000000   \n",
        "Area          0.022544  0.363315    0.077261  0.228390  0.333542  0.059229   \n",
        "\n",
        "                Area  \n",
        "Population  0.022544  \n",
        "Income      0.363315  \n",
        "Illiteracy  0.077261  \n",
        "Murder      0.228390  \n",
        "HS.Grad     0.333542  \n",
        "Frost       0.059229  \n",
        "Area        1.000000  "
       ]
      }
     ],
     "prompt_number": 556
    },
    {
     "cell_type": "code",
     "collapsed": false,
     "input": [
      "feature_cols3 = ['Murder','HS.Grad', 'Frost']\n",
      "X2 = df[feature_cols3]\n",
      "#print X2.head()\n",
      "lm2 = LinearRegression()\n",
      "\n",
      "lm2.fit(X2,y)\n",
      "\n",
      "#linsummary(X2,y,new_cols)\n",
      "\n",
      "#linsummary()"
     ],
     "language": "python",
     "metadata": {},
     "outputs": [
      {
       "metadata": {},
       "output_type": "pyout",
       "prompt_number": 557,
       "text": [
        "LinearRegression(copy_X=True, fit_intercept=True, n_jobs=1, normalize=False)"
       ]
      }
     ],
     "prompt_number": 557
    },
    {
     "cell_type": "code",
     "collapsed": false,
     "input": [
      "#taking out Illiteracy was a good choice \n",
      "print 'R^2: ', lm2.score(X2,y)\n",
      "print 'R^2 Adj: ', rsquared_adj(feature_cols,lm2.score(X2,y),X2)\n",
      "print \"\\nIntercept :\", lm2.intercept_\n",
      "for i in zip(feature_cols3,lm2.coef_):#,lm2_f,lm2_p):\n",
      "    print \"{0} : {1} \".format(i[0],i[1])#,i[2],i[3])"
     ],
     "language": "python",
     "metadata": {},
     "outputs": [
      {
       "output_type": "stream",
       "stream": "stdout",
       "text": [
        "R^2:  0.712662381865\n",
        "R^2 Adj:  0.664772778843\n",
        "\n",
        "Intercept : 71.0363788126\n",
        "Murder : -0.28306516778 \n",
        "HS.Grad : 0.0499487044115 \n",
        "Frost : -0.00691173462208 \n"
       ]
      }
     ],
     "prompt_number": 558
    },
    {
     "cell_type": "code",
     "collapsed": false,
     "input": [
      "lm2predict = lm2.predict(X2)"
     ],
     "language": "python",
     "metadata": {},
     "outputs": [],
     "prompt_number": 559
    },
    {
     "cell_type": "code",
     "collapsed": false,
     "input": [
      "print lm2predict[39],df.iloc[39]['Life.Exp']"
     ],
     "language": "python",
     "metadata": {},
     "outputs": [
      {
       "output_type": "stream",
       "stream": "stdout",
       "text": [
        "69.1916211427 67.96\n"
       ]
      }
     ],
     "prompt_number": 560
    },
    {
     "cell_type": "code",
     "collapsed": false,
     "input": [
      "#tie it back to the Dataframe\n",
      "df['Predict'] = lm2predict\n",
      "\n",
      "#new df to look at\n",
      "dfpred = df[['Life.Exp','Predict','state.name']]"
     ],
     "language": "python",
     "metadata": {},
     "outputs": [],
     "prompt_number": 561
    },
    {
     "cell_type": "code",
     "collapsed": false,
     "input": [
      "#Washington predicted to be the highest Life Exp\n",
      "dfpred.sort('Predict', ascending = False).head()"
     ],
     "language": "python",
     "metadata": {},
     "outputs": [
      {
       "html": [
        "<div style=\"max-height:1000px;max-width:1500px;overflow:auto;\">\n",
        "<table border=\"1\" class=\"dataframe\">\n",
        "  <thead>\n",
        "    <tr style=\"text-align: right;\">\n",
        "      <th></th>\n",
        "      <th>Life.Exp</th>\n",
        "      <th>Predict</th>\n",
        "      <th>state.name</th>\n",
        "    </tr>\n",
        "  </thead>\n",
        "  <tbody>\n",
        "    <tr>\n",
        "      <th>46</th>\n",
        "      <td>71.72</td>\n",
        "      <td>72.769766</td>\n",
        "      <td>Washington</td>\n",
        "    </tr>\n",
        "    <tr>\n",
        "      <th>36</th>\n",
        "      <td>72.13</td>\n",
        "      <td>72.540311</td>\n",
        "      <td>Oregon</td>\n",
        "    </tr>\n",
        "    <tr>\n",
        "      <th>10</th>\n",
        "      <td>73.60</td>\n",
        "      <td>72.373200</td>\n",
        "      <td>Hawaii</td>\n",
        "    </tr>\n",
        "    <tr>\n",
        "      <th>14</th>\n",
        "      <td>72.56</td>\n",
        "      <td>72.364660</td>\n",
        "      <td>Iowa</td>\n",
        "    </tr>\n",
        "    <tr>\n",
        "      <th>20</th>\n",
        "      <td>71.83</td>\n",
        "      <td>72.312354</td>\n",
        "      <td>Massachusetts</td>\n",
        "    </tr>\n",
        "  </tbody>\n",
        "</table>\n",
        "</div>"
       ],
       "metadata": {},
       "output_type": "pyout",
       "prompt_number": 562,
       "text": [
        "    Life.Exp    Predict     state.name\n",
        "46     71.72  72.769766     Washington\n",
        "36     72.13  72.540311         Oregon\n",
        "10     73.60  72.373200         Hawaii\n",
        "14     72.56  72.364660           Iowa\n",
        "20     71.83  72.312354  Massachusetts"
       ]
      }
     ],
     "prompt_number": 562
    },
    {
     "cell_type": "code",
     "collapsed": false,
     "input": [
      "#Hawaii has the highest life expectancy\n",
      "dfpred.sort('Life.Exp', ascending = False).head()"
     ],
     "language": "python",
     "metadata": {},
     "outputs": [
      {
       "html": [
        "<div style=\"max-height:1000px;max-width:1500px;overflow:auto;\">\n",
        "<table border=\"1\" class=\"dataframe\">\n",
        "  <thead>\n",
        "    <tr style=\"text-align: right;\">\n",
        "      <th></th>\n",
        "      <th>Life.Exp</th>\n",
        "      <th>Predict</th>\n",
        "      <th>state.name</th>\n",
        "    </tr>\n",
        "  </thead>\n",
        "  <tbody>\n",
        "    <tr>\n",
        "      <th>10</th>\n",
        "      <td>73.60</td>\n",
        "      <td>72.373200</td>\n",
        "      <td>Hawaii</td>\n",
        "    </tr>\n",
        "    <tr>\n",
        "      <th>22</th>\n",
        "      <td>72.96</td>\n",
        "      <td>72.156497</td>\n",
        "      <td>Minnesota</td>\n",
        "    </tr>\n",
        "    <tr>\n",
        "      <th>43</th>\n",
        "      <td>72.90</td>\n",
        "      <td>72.177226</td>\n",
        "      <td>Utah</td>\n",
        "    </tr>\n",
        "    <tr>\n",
        "      <th>33</th>\n",
        "      <td>72.78</td>\n",
        "      <td>71.866925</td>\n",
        "      <td>North Dakota</td>\n",
        "    </tr>\n",
        "    <tr>\n",
        "      <th>26</th>\n",
        "      <td>72.60</td>\n",
        "      <td>72.216717</td>\n",
        "      <td>Nebraska</td>\n",
        "    </tr>\n",
        "  </tbody>\n",
        "</table>\n",
        "</div>"
       ],
       "metadata": {},
       "output_type": "pyout",
       "prompt_number": 563,
       "text": [
        "    Life.Exp    Predict    state.name\n",
        "10     73.60  72.373200        Hawaii\n",
        "22     72.96  72.156497     Minnesota\n",
        "43     72.90  72.177226          Utah\n",
        "33     72.78  71.866925  North Dakota\n",
        "26     72.60  72.216717      Nebraska"
       ]
      }
     ],
     "prompt_number": 563
    },
    {
     "cell_type": "code",
     "collapsed": false,
     "input": [
      "#Look at the state with the smallest absolute error\n",
      "#add new column\n",
      "dfpred['AbsErr'] = np.absolute(dfpred['Life.Exp']-dfpred['Predict'])"
     ],
     "language": "python",
     "metadata": {},
     "outputs": [],
     "prompt_number": 564
    },
    {
     "cell_type": "code",
     "collapsed": false,
     "input": [
      "#Indiana has the smallest absolute Error\n",
      "dfpred.sort('AbsErr').head()"
     ],
     "language": "python",
     "metadata": {},
     "outputs": [
      {
       "html": [
        "<div style=\"max-height:1000px;max-width:1500px;overflow:auto;\">\n",
        "<table border=\"1\" class=\"dataframe\">\n",
        "  <thead>\n",
        "    <tr style=\"text-align: right;\">\n",
        "      <th></th>\n",
        "      <th>Life.Exp</th>\n",
        "      <th>Predict</th>\n",
        "      <th>state.name</th>\n",
        "      <th>AbsErr</th>\n",
        "    </tr>\n",
        "  </thead>\n",
        "  <tbody>\n",
        "    <tr>\n",
        "      <th>40</th>\n",
        "      <td>72.08</td>\n",
        "      <td>72.028616</td>\n",
        "      <td>South Dakota</td>\n",
        "      <td>0.051384</td>\n",
        "    </tr>\n",
        "    <tr>\n",
        "      <th>13</th>\n",
        "      <td>70.88</td>\n",
        "      <td>70.825671</td>\n",
        "      <td>Indiana</td>\n",
        "      <td>0.054329</td>\n",
        "    </tr>\n",
        "    <tr>\n",
        "      <th>32</th>\n",
        "      <td>69.21</td>\n",
        "      <td>69.264442</td>\n",
        "      <td>North Carolina</td>\n",
        "      <td>0.054442</td>\n",
        "    </tr>\n",
        "    <tr>\n",
        "      <th>45</th>\n",
        "      <td>70.08</td>\n",
        "      <td>70.147310</td>\n",
        "      <td>Virginia</td>\n",
        "      <td>0.067310</td>\n",
        "    </tr>\n",
        "    <tr>\n",
        "      <th>34</th>\n",
        "      <td>70.82</td>\n",
        "      <td>70.741913</td>\n",
        "      <td>Ohio</td>\n",
        "      <td>0.078087</td>\n",
        "    </tr>\n",
        "  </tbody>\n",
        "</table>\n",
        "</div>"
       ],
       "metadata": {},
       "output_type": "pyout",
       "prompt_number": 565,
       "text": [
        "    Life.Exp    Predict      state.name    AbsErr\n",
        "40     72.08  72.028616    South Dakota  0.051384\n",
        "13     70.88  70.825671         Indiana  0.054329\n",
        "32     69.21  69.264442  North Carolina  0.054442\n",
        "45     70.08  70.147310        Virginia  0.067310\n",
        "34     70.82  70.741913            Ohio  0.078087"
       ]
      }
     ],
     "prompt_number": 565
    },
    {
     "cell_type": "code",
     "collapsed": false,
     "input": [
      "#Hawaii has the highest absolute error\n",
      "dfpred.sort('AbsErr', ascending= False).head()"
     ],
     "language": "python",
     "metadata": {},
     "outputs": [
      {
       "html": [
        "<div style=\"max-height:1000px;max-width:1500px;overflow:auto;\">\n",
        "<table border=\"1\" class=\"dataframe\">\n",
        "  <thead>\n",
        "    <tr style=\"text-align: right;\">\n",
        "      <th></th>\n",
        "      <th>Life.Exp</th>\n",
        "      <th>Predict</th>\n",
        "      <th>state.name</th>\n",
        "      <th>AbsErr</th>\n",
        "    </tr>\n",
        "  </thead>\n",
        "  <tbody>\n",
        "    <tr>\n",
        "      <th>18</th>\n",
        "      <td>70.39</td>\n",
        "      <td>71.891508</td>\n",
        "      <td>Maine</td>\n",
        "      <td>1.501508</td>\n",
        "    </tr>\n",
        "    <tr>\n",
        "      <th>7</th>\n",
        "      <td>70.06</td>\n",
        "      <td>71.296665</td>\n",
        "      <td>Delaware</td>\n",
        "      <td>1.236665</td>\n",
        "    </tr>\n",
        "    <tr>\n",
        "      <th>39</th>\n",
        "      <td>67.96</td>\n",
        "      <td>69.191621</td>\n",
        "      <td>South Carolina</td>\n",
        "      <td>1.231621</td>\n",
        "    </tr>\n",
        "    <tr>\n",
        "      <th>10</th>\n",
        "      <td>73.60</td>\n",
        "      <td>72.373200</td>\n",
        "      <td>Hawaii</td>\n",
        "      <td>1.226800</td>\n",
        "    </tr>\n",
        "    <tr>\n",
        "      <th>42</th>\n",
        "      <td>70.90</td>\n",
        "      <td>69.708642</td>\n",
        "      <td>Texas</td>\n",
        "      <td>1.191358</td>\n",
        "    </tr>\n",
        "  </tbody>\n",
        "</table>\n",
        "</div>"
       ],
       "metadata": {},
       "output_type": "pyout",
       "prompt_number": 566,
       "text": [
        "    Life.Exp    Predict      state.name    AbsErr\n",
        "18     70.39  71.891508           Maine  1.501508\n",
        "7      70.06  71.296665        Delaware  1.236665\n",
        "39     67.96  69.191621  South Carolina  1.231621\n",
        "10     73.60  72.373200          Hawaii  1.226800\n",
        "42     70.90  69.708642           Texas  1.191358"
       ]
      }
     ],
     "prompt_number": 566
    }
   ],
   "metadata": {}
  }
 ]
}