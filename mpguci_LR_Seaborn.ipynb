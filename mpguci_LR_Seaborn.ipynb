{
 "metadata": {
  "name": "",
  "signature": "sha256:1f3ba45a0241d5d47ff2b7e3389940f3627f03673cad9183f7cd7fd15ea2e62b"
 },
 "nbformat": 3,
 "nbformat_minor": 0,
 "worksheets": [
  {
   "cells": [
    {
     "cell_type": "code",
     "collapsed": false,
     "input": [
      "import os\n",
      "import pandas as pd\n",
      "#from seaborn import set_style\n",
      "#set_style(\"darkgrid\")\n",
      "import seaborn as sns\n",
      "import matplotlib.pyplot as plt\n",
      "import statsmodels.formula.api as smf\n",
      "import numpy as np\n",
      "%matplotlib inline"
     ],
     "language": "python",
     "metadata": {},
     "outputs": [],
     "prompt_number": 11
    },
    {
     "cell_type": "code",
     "collapsed": false,
     "input": [
      "#import dataset\n",
      "df = pd.read_csv(r\"C:\\Users\\Neil\\Desktop\\Python\\data\\auto-mpg.uci.csv\", names = ['mpg','cyclinders','displacement','horsepower',\n",
      "                                                                    'weight','acceleration','modelyear','origin','carname'])\n",
      "\n",
      "#looking at top 5 of the data\n",
      "df.head()"
     ],
     "language": "python",
     "metadata": {},
     "outputs": [
      {
       "html": [
        "<div style=\"max-height:1000px;max-width:1500px;overflow:auto;\">\n",
        "<table border=\"1\" class=\"dataframe\">\n",
        "  <thead>\n",
        "    <tr style=\"text-align: right;\">\n",
        "      <th></th>\n",
        "      <th>mpg</th>\n",
        "      <th>cyclinders</th>\n",
        "      <th>displacement</th>\n",
        "      <th>horsepower</th>\n",
        "      <th>weight</th>\n",
        "      <th>acceleration</th>\n",
        "      <th>modelyear</th>\n",
        "      <th>origin</th>\n",
        "      <th>carname</th>\n",
        "    </tr>\n",
        "  </thead>\n",
        "  <tbody>\n",
        "    <tr>\n",
        "      <th>0</th>\n",
        "      <td>18</td>\n",
        "      <td>8</td>\n",
        "      <td>307</td>\n",
        "      <td>130</td>\n",
        "      <td>3504</td>\n",
        "      <td>12.0</td>\n",
        "      <td>70</td>\n",
        "      <td>1</td>\n",
        "      <td>\"chevrolet chevelle malibu\"</td>\n",
        "    </tr>\n",
        "    <tr>\n",
        "      <th>1</th>\n",
        "      <td>15</td>\n",
        "      <td>8</td>\n",
        "      <td>350</td>\n",
        "      <td>165</td>\n",
        "      <td>3693</td>\n",
        "      <td>11.5</td>\n",
        "      <td>70</td>\n",
        "      <td>1</td>\n",
        "      <td>\"buick skylark 320\"</td>\n",
        "    </tr>\n",
        "    <tr>\n",
        "      <th>2</th>\n",
        "      <td>18</td>\n",
        "      <td>8</td>\n",
        "      <td>318</td>\n",
        "      <td>150</td>\n",
        "      <td>3436</td>\n",
        "      <td>11.0</td>\n",
        "      <td>70</td>\n",
        "      <td>1</td>\n",
        "      <td>\"plymouth satellite\"</td>\n",
        "    </tr>\n",
        "    <tr>\n",
        "      <th>3</th>\n",
        "      <td>16</td>\n",
        "      <td>8</td>\n",
        "      <td>304</td>\n",
        "      <td>150</td>\n",
        "      <td>3433</td>\n",
        "      <td>12.0</td>\n",
        "      <td>70</td>\n",
        "      <td>1</td>\n",
        "      <td>\"amc rebel sst\"</td>\n",
        "    </tr>\n",
        "    <tr>\n",
        "      <th>4</th>\n",
        "      <td>17</td>\n",
        "      <td>8</td>\n",
        "      <td>302</td>\n",
        "      <td>140</td>\n",
        "      <td>3449</td>\n",
        "      <td>10.5</td>\n",
        "      <td>70</td>\n",
        "      <td>1</td>\n",
        "      <td>\"ford torino\"</td>\n",
        "    </tr>\n",
        "  </tbody>\n",
        "</table>\n",
        "</div>"
       ],
       "metadata": {},
       "output_type": "pyout",
       "prompt_number": 47,
       "text": [
        "   mpg  cyclinders  displacement horsepower  weight  acceleration  modelyear  \\\n",
        "0   18           8           307        130    3504          12.0         70   \n",
        "1   15           8           350        165    3693          11.5         70   \n",
        "2   18           8           318        150    3436          11.0         70   \n",
        "3   16           8           304        150    3433          12.0         70   \n",
        "4   17           8           302        140    3449          10.5         70   \n",
        "\n",
        "   origin                      carname  \n",
        "0       1  \"chevrolet chevelle malibu\"  \n",
        "1       1          \"buick skylark 320\"  \n",
        "2       1         \"plymouth satellite\"  \n",
        "3       1              \"amc rebel sst\"  \n",
        "4       1                \"ford torino\"  "
       ]
      }
     ],
     "prompt_number": 47
    },
    {
     "cell_type": "code",
     "collapsed": false,
     "input": [
      "#Lets look at the column types, \n",
      "df.info()"
     ],
     "language": "python",
     "metadata": {},
     "outputs": [
      {
       "output_type": "stream",
       "stream": "stdout",
       "text": [
        "<class 'pandas.core.frame.DataFrame'>\n",
        "Int64Index: 398 entries, 0 to 397\n",
        "Data columns (total 9 columns):\n",
        "mpg             398 non-null float64\n",
        "cyclinders      398 non-null int64\n",
        "displacement    398 non-null float64\n",
        "horsepower      398 non-null object\n",
        "weight          398 non-null int64\n",
        "acceleration    398 non-null float64\n",
        "modelyear       398 non-null int64\n",
        "origin          398 non-null int64\n",
        "carname         398 non-null object\n",
        "dtypes: float64(3), int64(4), object(2)\n",
        "memory usage: 28.0+ KB\n"
       ]
      }
     ],
     "prompt_number": 48
    },
    {
     "cell_type": "code",
     "collapsed": false,
     "input": [
      "#Horsepower isn't float/int, replace the string with nan\n",
      "#replace ? in horsepower with np.nan\n",
      "df['horsepower'].replace('?', np.nan, inplace= True)\n",
      "\n",
      "#convert horsepower to float\n",
      "df['horsepower'] = df['horsepower'].astype(float)"
     ],
     "language": "python",
     "metadata": {},
     "outputs": [],
     "prompt_number": 50
    },
    {
     "cell_type": "code",
     "collapsed": false,
     "input": [
      "#horsepower is now float\n",
      "df.info()"
     ],
     "language": "python",
     "metadata": {},
     "outputs": [
      {
       "output_type": "stream",
       "stream": "stdout",
       "text": [
        "<class 'pandas.core.frame.DataFrame'>\n",
        "Int64Index: 398 entries, 0 to 397\n",
        "Data columns (total 9 columns):\n",
        "mpg             398 non-null float64\n",
        "cyclinders      398 non-null int64\n",
        "displacement    398 non-null float64\n",
        "horsepower      392 non-null float64\n",
        "weight          398 non-null int64\n",
        "acceleration    398 non-null float64\n",
        "modelyear       398 non-null int64\n",
        "origin          398 non-null int64\n",
        "carname         398 non-null object\n",
        "dtypes: float64(4), int64(4), object(1)\n",
        "memory usage: 29.5+ KB\n"
       ]
      }
     ],
     "prompt_number": 51
    },
    {
     "cell_type": "code",
     "collapsed": false,
     "input": [
      "df.describe()"
     ],
     "language": "python",
     "metadata": {},
     "outputs": [
      {
       "html": [
        "<div style=\"max-height:1000px;max-width:1500px;overflow:auto;\">\n",
        "<table border=\"1\" class=\"dataframe\">\n",
        "  <thead>\n",
        "    <tr style=\"text-align: right;\">\n",
        "      <th></th>\n",
        "      <th>mpg</th>\n",
        "      <th>cyclinders</th>\n",
        "      <th>displacement</th>\n",
        "      <th>horsepower</th>\n",
        "      <th>weight</th>\n",
        "      <th>acceleration</th>\n",
        "      <th>modelyear</th>\n",
        "      <th>origin</th>\n",
        "    </tr>\n",
        "  </thead>\n",
        "  <tbody>\n",
        "    <tr>\n",
        "      <th>count</th>\n",
        "      <td>398.000000</td>\n",
        "      <td>398.000000</td>\n",
        "      <td>398.000000</td>\n",
        "      <td>392.000000</td>\n",
        "      <td>398.000000</td>\n",
        "      <td>398.000000</td>\n",
        "      <td>398.000000</td>\n",
        "      <td>398.000000</td>\n",
        "    </tr>\n",
        "    <tr>\n",
        "      <th>mean</th>\n",
        "      <td>23.514573</td>\n",
        "      <td>5.454774</td>\n",
        "      <td>193.425879</td>\n",
        "      <td>104.469388</td>\n",
        "      <td>2970.424623</td>\n",
        "      <td>15.568090</td>\n",
        "      <td>76.010050</td>\n",
        "      <td>1.572864</td>\n",
        "    </tr>\n",
        "    <tr>\n",
        "      <th>std</th>\n",
        "      <td>7.815984</td>\n",
        "      <td>1.701004</td>\n",
        "      <td>104.269838</td>\n",
        "      <td>38.491160</td>\n",
        "      <td>846.841774</td>\n",
        "      <td>2.757689</td>\n",
        "      <td>3.697627</td>\n",
        "      <td>0.802055</td>\n",
        "    </tr>\n",
        "    <tr>\n",
        "      <th>min</th>\n",
        "      <td>9.000000</td>\n",
        "      <td>3.000000</td>\n",
        "      <td>68.000000</td>\n",
        "      <td>46.000000</td>\n",
        "      <td>1613.000000</td>\n",
        "      <td>8.000000</td>\n",
        "      <td>70.000000</td>\n",
        "      <td>1.000000</td>\n",
        "    </tr>\n",
        "    <tr>\n",
        "      <th>25%</th>\n",
        "      <td>17.500000</td>\n",
        "      <td>4.000000</td>\n",
        "      <td>104.250000</td>\n",
        "      <td>75.000000</td>\n",
        "      <td>2223.750000</td>\n",
        "      <td>13.825000</td>\n",
        "      <td>73.000000</td>\n",
        "      <td>1.000000</td>\n",
        "    </tr>\n",
        "    <tr>\n",
        "      <th>50%</th>\n",
        "      <td>23.000000</td>\n",
        "      <td>4.000000</td>\n",
        "      <td>148.500000</td>\n",
        "      <td>93.500000</td>\n",
        "      <td>2803.500000</td>\n",
        "      <td>15.500000</td>\n",
        "      <td>76.000000</td>\n",
        "      <td>1.000000</td>\n",
        "    </tr>\n",
        "    <tr>\n",
        "      <th>75%</th>\n",
        "      <td>29.000000</td>\n",
        "      <td>8.000000</td>\n",
        "      <td>262.000000</td>\n",
        "      <td>126.000000</td>\n",
        "      <td>3608.000000</td>\n",
        "      <td>17.175000</td>\n",
        "      <td>79.000000</td>\n",
        "      <td>2.000000</td>\n",
        "    </tr>\n",
        "    <tr>\n",
        "      <th>max</th>\n",
        "      <td>46.600000</td>\n",
        "      <td>8.000000</td>\n",
        "      <td>455.000000</td>\n",
        "      <td>230.000000</td>\n",
        "      <td>5140.000000</td>\n",
        "      <td>24.800000</td>\n",
        "      <td>82.000000</td>\n",
        "      <td>3.000000</td>\n",
        "    </tr>\n",
        "  </tbody>\n",
        "</table>\n",
        "</div>"
       ],
       "metadata": {},
       "output_type": "pyout",
       "prompt_number": 52,
       "text": [
        "              mpg  cyclinders  displacement  horsepower       weight  \\\n",
        "count  398.000000  398.000000    398.000000  392.000000   398.000000   \n",
        "mean    23.514573    5.454774    193.425879  104.469388  2970.424623   \n",
        "std      7.815984    1.701004    104.269838   38.491160   846.841774   \n",
        "min      9.000000    3.000000     68.000000   46.000000  1613.000000   \n",
        "25%     17.500000    4.000000    104.250000   75.000000  2223.750000   \n",
        "50%     23.000000    4.000000    148.500000   93.500000  2803.500000   \n",
        "75%     29.000000    8.000000    262.000000  126.000000  3608.000000   \n",
        "max     46.600000    8.000000    455.000000  230.000000  5140.000000   \n",
        "\n",
        "       acceleration   modelyear      origin  \n",
        "count    398.000000  398.000000  398.000000  \n",
        "mean      15.568090   76.010050    1.572864  \n",
        "std        2.757689    3.697627    0.802055  \n",
        "min        8.000000   70.000000    1.000000  \n",
        "25%       13.825000   73.000000    1.000000  \n",
        "50%       15.500000   76.000000    1.000000  \n",
        "75%       17.175000   79.000000    2.000000  \n",
        "max       24.800000   82.000000    3.000000  "
       ]
      }
     ],
     "prompt_number": 52
    },
    {
     "cell_type": "code",
     "collapsed": false,
     "input": [
      "#Lets look at the distribution of our dependent variable\n",
      "#The data looks right skewed\n",
      "plt.hist(df['mpg'])"
     ],
     "language": "python",
     "metadata": {},
     "outputs": [
      {
       "metadata": {},
       "output_type": "pyout",
       "prompt_number": 53,
       "text": [
        "(array([ 13.,  78.,  73.,  61.,  54.,  48.,  38.,  22.,   5.,   6.]),\n",
        " array([  9.  ,  12.76,  16.52,  20.28,  24.04,  27.8 ,  31.56,  35.32,\n",
        "         39.08,  42.84,  46.6 ]),\n",
        " <a list of 10 Patch objects>)"
       ]
      },
      {
       "metadata": {},
       "output_type": "display_data",
       "png": "[encoded data removed]",
       "text": [
        "<matplotlib.figure.Figure at 0x8d85a50>"
       ]
      }
     ],
     "prompt_number": 53
    },
    {
     "cell_type": "code",
     "collapsed": false,
     "input": [
      "#Lets add log to transform it \n",
      "plt.hist(np.log(df['mpg']))"
     ],
     "language": "python",
     "metadata": {},
     "outputs": [
      {
       "metadata": {},
       "output_type": "pyout",
       "prompt_number": 54,
       "text": [
        "(array([  3.,  10.,  40.,  46.,  66.,  60.,  67.,  58.,  39.,   9.]),\n",
        " array([ 2.19722458,  2.36166217,  2.52609977,  2.69053737,  2.85497496,\n",
        "         3.01941256,  3.18385016,  3.34828775,  3.51272535,  3.67716294,\n",
        "         3.84160054]),\n",
        " <a list of 10 Patch objects>)"
       ]
      },
      {
       "metadata": {},
       "output_type": "display_data",
       "png": "[encoded data removed]",
       "text": [
        "<matplotlib.figure.Figure at 0x9173f30>"
       ]
      }
     ],
     "prompt_number": 54
    },
    {
     "cell_type": "code",
     "collapsed": false,
     "input": [
      "#create training and test data\n",
      "msk = np.random.rand(len(df)) < .8\n",
      "train = df[msk]\n",
      "test = df[~msk]\n",
      "\n",
      "train = train.dropna()\n",
      "train.info()\n"
     ],
     "language": "python",
     "metadata": {},
     "outputs": [
      {
       "output_type": "stream",
       "stream": "stdout",
       "text": [
        "<class 'pandas.core.frame.DataFrame'>\n",
        "Int64Index: 314 entries, 0 to 397\n",
        "Data columns (total 9 columns):\n",
        "mpg             314 non-null float64\n",
        "cyclinders      314 non-null int64\n",
        "displacement    314 non-null float64\n",
        "horsepower      314 non-null float64\n",
        "weight          314 non-null int64\n",
        "acceleration    314 non-null float64\n",
        "modelyear       314 non-null int64\n",
        "origin          314 non-null int64\n",
        "carname         314 non-null object\n",
        "dtypes: float64(4), int64(4), object(1)\n",
        "memory usage: 23.3+ KB\n"
       ]
      }
     ],
     "prompt_number": 79
    },
    {
     "cell_type": "code",
     "collapsed": false,
     "input": [
      "test = test.dropna()\n",
      "test.info()"
     ],
     "language": "python",
     "metadata": {},
     "outputs": [
      {
       "output_type": "stream",
       "stream": "stdout",
       "text": [
        "<class 'pandas.core.frame.DataFrame'>\n",
        "Int64Index: 78 entries, 7 to 394\n",
        "Data columns (total 9 columns):\n",
        "mpg             78 non-null float64\n",
        "cyclinders      78 non-null int64\n",
        "displacement    78 non-null float64\n",
        "horsepower      78 non-null float64\n",
        "weight          78 non-null int64\n",
        "acceleration    78 non-null float64\n",
        "modelyear       78 non-null int64\n",
        "origin          78 non-null int64\n",
        "carname         78 non-null object\n",
        "dtypes: float64(4), int64(4), object(1)\n",
        "memory usage: 5.8+ KB\n"
       ]
      }
     ],
     "prompt_number": 81
    },
    {
     "cell_type": "code",
     "collapsed": false,
     "input": [
      "#Lets graph how the 4 continous independent variables relate to the dependent\n",
      "f, (ax) = plt.subplots(1,4, figsize =(14,6),sharey=True)\n",
      "sns.regplot('displacement','mpg',data = df,ci=None, ax =ax[0],fit_reg= False)\n",
      "sns.regplot('weight','mpg',data = df,ci=None, ax =ax[1],fit_reg= False).set_ylabel(\"\")\n",
      "sns.regplot('horsepower','mpg',data = df,ci=None, ax =ax[2],fit_reg= False).set_ylabel(\"\")\n",
      "g = sns.regplot('acceleration','mpg',data = df,ci=None, ax =ax[3],fit_reg= False)\n",
      "g.set_ylabel(\"\")\n",
      "axes = g.axes\n",
      "axes.set_xlim(7,25)"
     ],
     "language": "python",
     "metadata": {},
     "outputs": [
      {
       "metadata": {},
       "output_type": "pyout",
       "prompt_number": 58,
       "text": [
        "(7, 25)"
       ]
      },
      {
       "metadata": {},
       "output_type": "display_data",
       "png": "[encoded data removed]",
       "text": [
        "<matplotlib.figure.Figure at 0x84d42b0>"
       ]
      }
     ],
     "prompt_number": 58
    },
    {
     "cell_type": "code",
     "collapsed": false,
     "input": [
      "#The independent variables look highly correlated \n",
      "# lets take a look\n",
      "from scipy.stats.stats import pearsonr\n",
      "print pearsonr(train['weight'],train['displacement'])[0]\n",
      "print pearsonr(train['horsepower'],train['displacement'])[0]\n",
      "print pearsonr(train['weight'],train['horsepower'])[0]\n",
      "\n",
      "#Weight/displacement/horsepower are all HIGHLY correlated \n",
      "#We will have to remove 1 or more of these variables from our model"
     ],
     "language": "python",
     "metadata": {},
     "outputs": [
      {
       "output_type": "stream",
       "stream": "stdout",
       "text": [
        "0.934639265901\n",
        "0.900904946973\n",
        "0.870306219167\n"
       ]
      }
     ],
     "prompt_number": 71
    },
    {
     "cell_type": "code",
     "collapsed": false,
     "input": [
      "#lets create our model with all the independent variables\n",
      "lmAll = smf.ols(formula='np.log(mpg) ~ weight+displacement+horsepower+cyclinders+modelyear+origin', data = train).fit()\n",
      "lmAll.summary()"
     ],
     "language": "python",
     "metadata": {},
     "outputs": [
      {
       "html": [
        "<table class=\"simpletable\">\n",
        "<caption>OLS Regression Results</caption>\n",
        "<tr>\n",
        "  <th>Dep. Variable:</th>       <td>np.log(mpg)</td>   <th>  R-squared:         </th> <td>   0.888</td> \n",
        "</tr>\n",
        "<tr>\n",
        "  <th>Model:</th>                   <td>OLS</td>       <th>  Adj. R-squared:    </th> <td>   0.885</td> \n",
        "</tr>\n",
        "<tr>\n",
        "  <th>Method:</th>             <td>Least Squares</td>  <th>  F-statistic:       </th> <td>   393.5</td> \n",
        "</tr>\n",
        "<tr>\n",
        "  <th>Date:</th>             <td>Mon, 15 Jun 2015</td> <th>  Prob (F-statistic):</th> <td>1.11e-138</td>\n",
        "</tr>\n",
        "<tr>\n",
        "  <th>Time:</th>                 <td>22:49:30</td>     <th>  Log-Likelihood:    </th> <td>  222.84</td> \n",
        "</tr>\n",
        "<tr>\n",
        "  <th>No. Observations:</th>      <td>   306</td>      <th>  AIC:               </th> <td>  -431.7</td> \n",
        "</tr>\n",
        "<tr>\n",
        "  <th>Df Residuals:</th>          <td>   299</td>      <th>  BIC:               </th> <td>  -405.6</td> \n",
        "</tr>\n",
        "<tr>\n",
        "  <th>Df Model:</th>              <td>     6</td>      <th>                     </th>     <td> </td>    \n",
        "</tr>\n",
        "<tr>\n",
        "  <th>Covariance Type:</th>      <td>nonrobust</td>    <th>                     </th>     <td> </td>    \n",
        "</tr>\n",
        "</table>\n",
        "<table class=\"simpletable\">\n",
        "<tr>\n",
        "        <td></td>          <th>coef</th>     <th>std err</th>      <th>t</th>      <th>P>|t|</th> <th>[95.0% Conf. Int.]</th> \n",
        "</tr>\n",
        "<tr>\n",
        "  <th>Intercept</th>    <td>    1.7826</td> <td>    0.167</td> <td>   10.662</td> <td> 0.000</td> <td>    1.454     2.112</td>\n",
        "</tr>\n",
        "<tr>\n",
        "  <th>weight</th>       <td>   -0.0003</td> <td> 2.31e-05</td> <td>  -11.417</td> <td> 0.000</td> <td>   -0.000    -0.000</td>\n",
        "</tr>\n",
        "<tr>\n",
        "  <th>displacement</th> <td>    0.0006</td> <td>    0.000</td> <td>    1.955</td> <td> 0.052</td> <td>-3.89e-06     0.001</td>\n",
        "</tr>\n",
        "<tr>\n",
        "  <th>horsepower</th>   <td>   -0.0010</td> <td>    0.000</td> <td>   -2.328</td> <td> 0.021</td> <td>   -0.002    -0.000</td>\n",
        "</tr>\n",
        "<tr>\n",
        "  <th>cyclinders</th>   <td>   -0.0320</td> <td>    0.013</td> <td>   -2.431</td> <td> 0.016</td> <td>   -0.058    -0.006</td>\n",
        "</tr>\n",
        "<tr>\n",
        "  <th>modelyear</th>    <td>    0.0290</td> <td>    0.002</td> <td>   14.265</td> <td> 0.000</td> <td>    0.025     0.033</td>\n",
        "</tr>\n",
        "<tr>\n",
        "  <th>origin</th>       <td>    0.0434</td> <td>    0.011</td> <td>    3.953</td> <td> 0.000</td> <td>    0.022     0.065</td>\n",
        "</tr>\n",
        "</table>\n",
        "<table class=\"simpletable\">\n",
        "<tr>\n",
        "  <th>Omnibus:</th>       <td> 3.962</td> <th>  Durbin-Watson:     </th> <td>   1.401</td>\n",
        "</tr>\n",
        "<tr>\n",
        "  <th>Prob(Omnibus):</th> <td> 0.138</td> <th>  Jarque-Bera (JB):  </th> <td>   4.762</td>\n",
        "</tr>\n",
        "<tr>\n",
        "  <th>Skew:</th>          <td>-0.063</td> <th>  Prob(JB):          </th> <td>  0.0925</td>\n",
        "</tr>\n",
        "<tr>\n",
        "  <th>Kurtosis:</th>      <td> 3.598</td> <th>  Cond. No.          </th> <td>7.61e+04</td>\n",
        "</tr>\n",
        "</table>"
       ],
       "metadata": {},
       "output_type": "pyout",
       "prompt_number": 76,
       "text": [
        "<class 'statsmodels.iolib.summary.Summary'>\n",
        "\"\"\"\n",
        "                            OLS Regression Results                            \n",
        "==============================================================================\n",
        "Dep. Variable:            np.log(mpg)   R-squared:                       0.888\n",
        "Model:                            OLS   Adj. R-squared:                  0.885\n",
        "Method:                 Least Squares   F-statistic:                     393.5\n",
        "Date:                Mon, 15 Jun 2015   Prob (F-statistic):          1.11e-138\n",
        "Time:                        22:49:30   Log-Likelihood:                 222.84\n",
        "No. Observations:                 306   AIC:                            -431.7\n",
        "Df Residuals:                     299   BIC:                            -405.6\n",
        "Df Model:                           6                                         \n",
        "Covariance Type:            nonrobust                                         \n",
        "================================================================================\n",
        "                   coef    std err          t      P>|t|      [95.0% Conf. Int.]\n",
        "--------------------------------------------------------------------------------\n",
        "Intercept        1.7826      0.167     10.662      0.000         1.454     2.112\n",
        "weight          -0.0003   2.31e-05    -11.417      0.000        -0.000    -0.000\n",
        "displacement     0.0006      0.000      1.955      0.052     -3.89e-06     0.001\n",
        "horsepower      -0.0010      0.000     -2.328      0.021        -0.002    -0.000\n",
        "cyclinders      -0.0320      0.013     -2.431      0.016        -0.058    -0.006\n",
        "modelyear        0.0290      0.002     14.265      0.000         0.025     0.033\n",
        "origin           0.0434      0.011      3.953      0.000         0.022     0.065\n",
        "==============================================================================\n",
        "Omnibus:                        3.962   Durbin-Watson:                   1.401\n",
        "Prob(Omnibus):                  0.138   Jarque-Bera (JB):                4.762\n",
        "Skew:                          -0.063   Prob(JB):                       0.0925\n",
        "Kurtosis:                       3.598   Cond. No.                     7.61e+04\n",
        "==============================================================================\n",
        "\n",
        "Warnings:\n",
        "[1] Standard Errors assume that the covariance matrix of the errors is correctly specified.\n",
        "[2] The condition number is large, 7.61e+04. This might indicate that there are\n",
        "strong multicollinearity or other numerical problems.\n",
        "\"\"\""
       ]
      }
     ],
     "prompt_number": 76
    },
    {
     "cell_type": "code",
     "collapsed": false,
     "input": [
      "#displacement looks to be the variable with the highest p-value lets take it out first\n",
      "lm1 = smf.ols(formula='np.log(mpg) ~ weight+horsepower+cyclinders+modelyear+origin', data = train).fit()\n",
      "lm1.summary()"
     ],
     "language": "python",
     "metadata": {},
     "outputs": [
      {
       "html": [
        "<table class=\"simpletable\">\n",
        "<caption>OLS Regression Results</caption>\n",
        "<tr>\n",
        "  <th>Dep. Variable:</th>       <td>np.log(mpg)</td>   <th>  R-squared:         </th> <td>   0.886</td> \n",
        "</tr>\n",
        "<tr>\n",
        "  <th>Model:</th>                   <td>OLS</td>       <th>  Adj. R-squared:    </th> <td>   0.884</td> \n",
        "</tr>\n",
        "<tr>\n",
        "  <th>Method:</th>             <td>Least Squares</td>  <th>  F-statistic:       </th> <td>   467.1</td> \n",
        "</tr>\n",
        "<tr>\n",
        "  <th>Date:</th>             <td>Mon, 15 Jun 2015</td> <th>  Prob (F-statistic):</th> <td>3.25e-139</td>\n",
        "</tr>\n",
        "<tr>\n",
        "  <th>Time:</th>                 <td>22:49:44</td>     <th>  Log-Likelihood:    </th> <td>  220.89</td> \n",
        "</tr>\n",
        "<tr>\n",
        "  <th>No. Observations:</th>      <td>   306</td>      <th>  AIC:               </th> <td>  -429.8</td> \n",
        "</tr>\n",
        "<tr>\n",
        "  <th>Df Residuals:</th>          <td>   300</td>      <th>  BIC:               </th> <td>  -407.4</td> \n",
        "</tr>\n",
        "<tr>\n",
        "  <th>Df Model:</th>              <td>     5</td>      <th>                     </th>     <td> </td>    \n",
        "</tr>\n",
        "<tr>\n",
        "  <th>Covariance Type:</th>      <td>nonrobust</td>    <th>                     </th>     <td> </td>    \n",
        "</tr>\n",
        "</table>\n",
        "<table class=\"simpletable\">\n",
        "<tr>\n",
        "       <td></td>         <th>coef</th>     <th>std err</th>      <th>t</th>      <th>P>|t|</th> <th>[95.0% Conf. Int.]</th> \n",
        "</tr>\n",
        "<tr>\n",
        "  <th>Intercept</th>  <td>    1.7325</td> <td>    0.166</td> <td>   10.437</td> <td> 0.000</td> <td>    1.406     2.059</td>\n",
        "</tr>\n",
        "<tr>\n",
        "  <th>weight</th>     <td>   -0.0002</td> <td> 2.16e-05</td> <td>  -11.461</td> <td> 0.000</td> <td>   -0.000    -0.000</td>\n",
        "</tr>\n",
        "<tr>\n",
        "  <th>horsepower</th> <td>   -0.0006</td> <td>    0.000</td> <td>   -1.639</td> <td> 0.102</td> <td>   -0.001     0.000</td>\n",
        "</tr>\n",
        "<tr>\n",
        "  <th>cyclinders</th> <td>   -0.0153</td> <td>    0.010</td> <td>   -1.519</td> <td> 0.130</td> <td>   -0.035     0.005</td>\n",
        "</tr>\n",
        "<tr>\n",
        "  <th>modelyear</th>  <td>    0.0289</td> <td>    0.002</td> <td>   14.153</td> <td> 0.000</td> <td>    0.025     0.033</td>\n",
        "</tr>\n",
        "<tr>\n",
        "  <th>origin</th>     <td>    0.0366</td> <td>    0.010</td> <td>    3.500</td> <td> 0.001</td> <td>    0.016     0.057</td>\n",
        "</tr>\n",
        "</table>\n",
        "<table class=\"simpletable\">\n",
        "<tr>\n",
        "  <th>Omnibus:</th>       <td> 4.328</td> <th>  Durbin-Watson:     </th> <td>   1.351</td>\n",
        "</tr>\n",
        "<tr>\n",
        "  <th>Prob(Omnibus):</th> <td> 0.115</td> <th>  Jarque-Bera (JB):  </th> <td>   5.565</td>\n",
        "</tr>\n",
        "<tr>\n",
        "  <th>Skew:</th>          <td>-0.018</td> <th>  Prob(JB):          </th> <td>  0.0619</td>\n",
        "</tr>\n",
        "<tr>\n",
        "  <th>Kurtosis:</th>      <td> 3.660</td> <th>  Cond. No.          </th> <td>7.51e+04</td>\n",
        "</tr>\n",
        "</table>"
       ],
       "metadata": {},
       "output_type": "pyout",
       "prompt_number": 77,
       "text": [
        "<class 'statsmodels.iolib.summary.Summary'>\n",
        "\"\"\"\n",
        "                            OLS Regression Results                            \n",
        "==============================================================================\n",
        "Dep. Variable:            np.log(mpg)   R-squared:                       0.886\n",
        "Model:                            OLS   Adj. R-squared:                  0.884\n",
        "Method:                 Least Squares   F-statistic:                     467.1\n",
        "Date:                Mon, 15 Jun 2015   Prob (F-statistic):          3.25e-139\n",
        "Time:                        22:49:44   Log-Likelihood:                 220.89\n",
        "No. Observations:                 306   AIC:                            -429.8\n",
        "Df Residuals:                     300   BIC:                            -407.4\n",
        "Df Model:                           5                                         \n",
        "Covariance Type:            nonrobust                                         \n",
        "==============================================================================\n",
        "                 coef    std err          t      P>|t|      [95.0% Conf. Int.]\n",
        "------------------------------------------------------------------------------\n",
        "Intercept      1.7325      0.166     10.437      0.000         1.406     2.059\n",
        "weight        -0.0002   2.16e-05    -11.461      0.000        -0.000    -0.000\n",
        "horsepower    -0.0006      0.000     -1.639      0.102        -0.001     0.000\n",
        "cyclinders    -0.0153      0.010     -1.519      0.130        -0.035     0.005\n",
        "modelyear      0.0289      0.002     14.153      0.000         0.025     0.033\n",
        "origin         0.0366      0.010      3.500      0.001         0.016     0.057\n",
        "==============================================================================\n",
        "Omnibus:                        4.328   Durbin-Watson:                   1.351\n",
        "Prob(Omnibus):                  0.115   Jarque-Bera (JB):                5.565\n",
        "Skew:                          -0.018   Prob(JB):                       0.0619\n",
        "Kurtosis:                       3.660   Cond. No.                     7.51e+04\n",
        "==============================================================================\n",
        "\n",
        "Warnings:\n",
        "[1] Standard Errors assume that the covariance matrix of the errors is correctly specified.\n",
        "[2] The condition number is large, 7.51e+04. This might indicate that there are\n",
        "strong multicollinearity or other numerical problems.\n",
        "\"\"\""
       ]
      }
     ],
     "prompt_number": 77
    },
    {
     "cell_type": "code",
     "collapsed": false,
     "input": [
      "#Cyclinders and horsepower have gone up in p-value lets take both of thsoe out\n",
      "lm2 = smf.ols(formula='np.log(mpg) ~ weight++modelyear+origin', data = train).fit()\n",
      "lm2.summary()"
     ],
     "language": "python",
     "metadata": {},
     "outputs": [
      {
       "html": [
        "<table class=\"simpletable\">\n",
        "<caption>OLS Regression Results</caption>\n",
        "<tr>\n",
        "  <th>Dep. Variable:</th>       <td>np.log(mpg)</td>   <th>  R-squared:         </th> <td>   0.883</td> \n",
        "</tr>\n",
        "<tr>\n",
        "  <th>Model:</th>                   <td>OLS</td>       <th>  Adj. R-squared:    </th> <td>   0.882</td> \n",
        "</tr>\n",
        "<tr>\n",
        "  <th>Method:</th>             <td>Least Squares</td>  <th>  F-statistic:       </th> <td>   762.9</td> \n",
        "</tr>\n",
        "<tr>\n",
        "  <th>Date:</th>             <td>Mon, 15 Jun 2015</td> <th>  Prob (F-statistic):</th> <td>1.49e-140</td>\n",
        "</tr>\n",
        "<tr>\n",
        "  <th>Time:</th>                 <td>22:51:10</td>     <th>  Log-Likelihood:    </th> <td>  217.27</td> \n",
        "</tr>\n",
        "<tr>\n",
        "  <th>No. Observations:</th>      <td>   306</td>      <th>  AIC:               </th> <td>  -426.5</td> \n",
        "</tr>\n",
        "<tr>\n",
        "  <th>Df Residuals:</th>          <td>   302</td>      <th>  BIC:               </th> <td>  -411.6</td> \n",
        "</tr>\n",
        "<tr>\n",
        "  <th>Df Model:</th>              <td>     3</td>      <th>                     </th>     <td> </td>    \n",
        "</tr>\n",
        "<tr>\n",
        "  <th>Covariance Type:</th>      <td>nonrobust</td>    <th>                     </th>     <td> </td>    \n",
        "</tr>\n",
        "</table>\n",
        "<table class=\"simpletable\">\n",
        "<tr>\n",
        "      <td></td>         <th>coef</th>     <th>std err</th>      <th>t</th>      <th>P>|t|</th> <th>[95.0% Conf. Int.]</th> \n",
        "</tr>\n",
        "<tr>\n",
        "  <th>Intercept</th> <td>    1.6213</td> <td>    0.162</td> <td>   10.010</td> <td> 0.000</td> <td>    1.303     1.940</td>\n",
        "</tr>\n",
        "<tr>\n",
        "  <th>weight</th>    <td>   -0.0003</td> <td> 1.01e-05</td> <td>  -29.459</td> <td> 0.000</td> <td>   -0.000    -0.000</td>\n",
        "</tr>\n",
        "<tr>\n",
        "  <th>modelyear</th> <td>    0.0304</td> <td>    0.002</td> <td>   15.417</td> <td> 0.000</td> <td>    0.026     0.034</td>\n",
        "</tr>\n",
        "<tr>\n",
        "  <th>origin</th>    <td>    0.0357</td> <td>    0.010</td> <td>    3.425</td> <td> 0.001</td> <td>    0.015     0.056</td>\n",
        "</tr>\n",
        "</table>\n",
        "<table class=\"simpletable\">\n",
        "<tr>\n",
        "  <th>Omnibus:</th>       <td> 7.714</td> <th>  Durbin-Watson:     </th> <td>   1.418</td>\n",
        "</tr>\n",
        "<tr>\n",
        "  <th>Prob(Omnibus):</th> <td> 0.021</td> <th>  Jarque-Bera (JB):  </th> <td>  11.815</td>\n",
        "</tr>\n",
        "<tr>\n",
        "  <th>Skew:</th>          <td>-0.121</td> <th>  Prob(JB):          </th> <td> 0.00272</td>\n",
        "</tr>\n",
        "<tr>\n",
        "  <th>Kurtosis:</th>      <td> 3.932</td> <th>  Cond. No.          </th> <td>7.26e+04</td>\n",
        "</tr>\n",
        "</table>"
       ],
       "metadata": {},
       "output_type": "pyout",
       "prompt_number": 78,
       "text": [
        "<class 'statsmodels.iolib.summary.Summary'>\n",
        "\"\"\"\n",
        "                            OLS Regression Results                            \n",
        "==============================================================================\n",
        "Dep. Variable:            np.log(mpg)   R-squared:                       0.883\n",
        "Model:                            OLS   Adj. R-squared:                  0.882\n",
        "Method:                 Least Squares   F-statistic:                     762.9\n",
        "Date:                Mon, 15 Jun 2015   Prob (F-statistic):          1.49e-140\n",
        "Time:                        22:51:10   Log-Likelihood:                 217.27\n",
        "No. Observations:                 306   AIC:                            -426.5\n",
        "Df Residuals:                     302   BIC:                            -411.6\n",
        "Df Model:                           3                                         \n",
        "Covariance Type:            nonrobust                                         \n",
        "==============================================================================\n",
        "                 coef    std err          t      P>|t|      [95.0% Conf. Int.]\n",
        "------------------------------------------------------------------------------\n",
        "Intercept      1.6213      0.162     10.010      0.000         1.303     1.940\n",
        "weight        -0.0003   1.01e-05    -29.459      0.000        -0.000    -0.000\n",
        "modelyear      0.0304      0.002     15.417      0.000         0.026     0.034\n",
        "origin         0.0357      0.010      3.425      0.001         0.015     0.056\n",
        "==============================================================================\n",
        "Omnibus:                        7.714   Durbin-Watson:                   1.418\n",
        "Prob(Omnibus):                  0.021   Jarque-Bera (JB):               11.815\n",
        "Skew:                          -0.121   Prob(JB):                      0.00272\n",
        "Kurtosis:                       3.932   Cond. No.                     7.26e+04\n",
        "==============================================================================\n",
        "\n",
        "Warnings:\n",
        "[1] Standard Errors assume that the covariance matrix of the errors is correctly specified.\n",
        "[2] The condition number is large, 7.26e+04. This might indicate that there are\n",
        "strong multicollinearity or other numerical problems.\n",
        "\"\"\""
       ]
      }
     ],
     "prompt_number": 78
    },
    {
     "cell_type": "code",
     "collapsed": false,
     "input": [
      "#Our model has 3 less variables and holds essentially the same R^2\n",
      "#Lets use lm2 to predict our values in our test set"
     ],
     "language": "python",
     "metadata": {},
     "outputs": []
    },
    {
     "cell_type": "code",
     "collapsed": false,
     "input": [
      "#need to apply the exponent function\n",
      "predTest = np.exp(lm2.predict(test))"
     ],
     "language": "python",
     "metadata": {},
     "outputs": [],
     "prompt_number": 90
    },
    {
     "cell_type": "code",
     "collapsed": false,
     "input": [
      "#SSE\n",
      "SSE = map(lambda x,y: np.power((x-y),2), test['mpg'],predTest)\n",
      "SSE = reduce(lambda x,y: x+y, SSE)\n",
      "\n",
      "SSE"
     ],
     "language": "python",
     "metadata": {},
     "outputs": [
      {
       "metadata": {},
       "output_type": "pyout",
       "prompt_number": 91,
       "text": [
        "1084.94911148805"
       ]
      }
     ],
     "prompt_number": 91
    },
    {
     "cell_type": "code",
     "collapsed": false,
     "input": [
      "#SST(baseline on train data)\n",
      "mpglist = train['mpg'].tolist()\n",
      "baseline = reduce(lambda x,y: x+y, mpglist)/len(mpglist)\n",
      "SST = [np.power(x-baseline,2) for x in mpglist]\n",
      "SST = reduce(lambda x,y: x+y, SST)\n",
      "SST"
     ],
     "language": "python",
     "metadata": {},
     "outputs": [
      {
       "metadata": {},
       "output_type": "pyout",
       "prompt_number": 92,
       "text": [
        "18270.439394904457"
       ]
      }
     ],
     "prompt_number": 92
    },
    {
     "cell_type": "code",
     "collapsed": false,
     "input": [
      "#rsquared on test data\n",
      "1-SSE/SST "
     ],
     "language": "python",
     "metadata": {},
     "outputs": [
      {
       "metadata": {},
       "output_type": "pyout",
       "prompt_number": 93,
       "text": [
        "0.94061724033902339"
       ]
      }
     ],
     "prompt_number": 93
    },
    {
     "cell_type": "code",
     "collapsed": false,
     "input": [
      "#thats a high R^2 nice, almost perfect match(that'll never happen I think...)"
     ],
     "language": "python",
     "metadata": {},
     "outputs": [],
     "prompt_number": 88
    }
   ],
   "metadata": {}
  }
 ]
}